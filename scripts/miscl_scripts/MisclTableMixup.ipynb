{
 "cells": [
  {
   "cell_type": "code",
   "execution_count": 3,
   "metadata": {},
   "outputs": [],
   "source": [
    "# Notebook for ner results table"
   ]
  },
  {
   "cell_type": "code",
   "execution_count": 4,
   "metadata": {},
   "outputs": [],
   "source": [
    "import pandas as pd\n",
    "import numpy as np\n",
    "import json"
   ]
  },
  {
   "cell_type": "code",
   "execution_count": 5,
   "metadata": {},
   "outputs": [],
   "source": [
    "raw_path = '/notebook/ue/uncertainty-estimation/workdir/run_calc_ues_metrics/electra-metric/'\n",
    "\n",
    "#reg_path = '/data/gkuzmin/uncertainty-estimation/workdir/run_calc_ues_metrics/conll2003_electra_reg_01_fix/'\n",
    "ues = ['last', 'all', 'dpp', 'dpp_with_ood']\n",
    "ues_names = ['MC', 'MC', 'DPP_on_masks', 'DPP_with_ood']\n",
    "ues_layers = ['last', 'all', 'last', 'last']\n",
    "metrics = ['rejection-curve-auc', 'rcc-auc', 'rpp']\n",
    "metric_names = ['rejection-curve-auc', 'rcc-auc', 'rpp']\n",
    "types = ['mrpc', 'cola', 'sst2']\n",
    "types_names = ['MRPC', 'CoLA', 'SST2 (10%)']\n",
    "ue_methods = ['max_prob', 'bald', 'sampled_max_prob', 'variance']\n",
    "perc_metrics = ['rejection-curve-auc', 'rpp']\n",
    "diff_metrics = ['rejection-curve-auc', 'roc-auc']"
   ]
  },
  {
   "cell_type": "code",
   "execution_count": 6,
   "metadata": {},
   "outputs": [],
   "source": [
    "def get_df(raw_path, reg_type, baselines_dict={}, baselines=None):\n",
    "    raw_dict = {}\n",
    "    df_dict = {}\n",
    "    for ue, ue_name in zip(ues, ues):\n",
    "        #ue_path = raw_path + ue + '/'\n",
    "        # enter row level\n",
    "        raw_dict[ue_name] = {}\n",
    "        df_dict[ue_name] = {}\n",
    "        for ue_type in types:\n",
    "            raw_dict[ue_name][ue_type] = {}\n",
    "            for metric in metrics:\n",
    "                ue_path = raw_path + ue_type + '/' + ue + '/'\n",
    "                fname = ue_path + f'metrics_{metric}.json'\n",
    "                with open(fname, 'r') as f:\n",
    "                    curr_metrics = json.loads(f.read())\n",
    "                metric_results = {}\n",
    "                for ue_method in ue_methods:\n",
    "                    mean, std = np.mean(list(curr_metrics[ue_method].values())), np.std(list(curr_metrics[ue_method].values()))\n",
    "                    if metric in perc_metrics:\n",
    "                        mean, std = mean * 100, std * 100\n",
    "                    if ue_method == 'max_prob':\n",
    "                        baseline = mean\n",
    "                        if baselines is None:\n",
    "                            baselines_dict[ue_type + metric + ue_method] = baseline\n",
    "                        else:\n",
    "                            baseline = baselines_dict[ue_type + metric + ue_method]\n",
    "                    if metric in diff_metrics and ue_method != 'max_prob':\n",
    "                        mean = mean - baseline\n",
    "                    value = '{:.{prec}f}'.format(mean, prec=2) + '$\\\\pm$' + '{:.{prec}f}'.format(std, prec=2)\n",
    "                    metric_results[ue_method] = value\n",
    "\n",
    "                # so we obtained two dict for one metric\n",
    "                raw_dict[ue_name][ue_type][metric] = metric_results\n",
    "                # make buf dataframe\n",
    "            type_df = pd.DataFrame.from_dict(raw_dict[ue_name][ue_type])\n",
    "            df_dict[ue_name][ue_type] = type_df\n",
    "\n",
    "    dataset_dfs = [pd.concat([df_dict[ue][ue_type] for ue in ues]) for ue_type in types]\n",
    "    # make multiindex\n",
    "    for idx, df in enumerate(dataset_dfs):\n",
    "        df.columns = pd.MultiIndex.from_tuples([(types_names[idx], metric) for metric in metrics])\n",
    "        dataset_dfs[idx] = df\n",
    "    #token_df.columns = pd.MultiIndex.from_tuples([('CoNNL-2003 (10%, token level)', metric) for metric in metrics])\n",
    "    #seq_df.columns = pd.MultiIndex.from_tuples([('CoNNL-2003 (10%, sequence level)', metric) for metric in metrics])\n",
    "    raw_df = pd.concat(dataset_dfs, axis=1)\n",
    "\n",
    "    # after rename max_prob column to baseline and drop all max_prob columns\n",
    "    max_prob_rows = raw_df.loc['max_prob']\n",
    "    if len(max_prob_rows) != len(metrics) * len(types_names) or len(types_names) == 1:\n",
    "        buf_max_prob = raw_df.loc['max_prob'].drop_duplicates().loc['max_prob']\n",
    "    else:\n",
    "        buf_max_prob = raw_df.loc['max_prob']\n",
    "    raw_df.drop('max_prob', inplace=True)\n",
    "    raw_df.loc['max_prob'] = buf_max_prob\n",
    "    names_df = pd.DataFrame()\n",
    "    methods = []\n",
    "    for ue in ues_names:\n",
    "        methods += [ue] * (len(ue_methods) - 1)\n",
    "    methods += ['Baseline']\n",
    "    layers = []\n",
    "    for ue in ues_layers:\n",
    "        layers += [ue] * (len(ue_methods) - 1)\n",
    "    layers += ['-']\n",
    "    reg_type = [reg_type] * len(raw_df)\n",
    "    names_df['Method'] = methods\n",
    "    names_df['Reg. Type'] = reg_type\n",
    "    # names_df['Dropout Layers'] = layers\n",
    "    names_df['UE Score'] = raw_df.index\n",
    "    names_df.index = raw_df.index\n",
    "    raw_df = pd.concat([names_df, raw_df], axis=1)\n",
    "    return raw_df, baselines_dict"
   ]
  },
  {
   "cell_type": "markdown",
   "metadata": {},
   "source": [
    "# Final tables"
   ]
  },
  {
   "cell_type": "code",
   "execution_count": 14,
   "metadata": {},
   "outputs": [
    {
     "name": "stdout",
     "output_type": "stream",
     "text": [
      "\\begin{tabular}{lllllllll}\n",
      "\\toprule\n",
      "  Method & Reg. Type & UE Score & (MRPC, rcc-auc) &   (MRPC, rpp) & (CoLA, rcc-auc) &   (CoLA, rpp) & (SST2 (10\\%), rcc-auc) & (SST2 (10\\%), rpp) \\\\\n",
      "\\midrule\n",
      " MSD|all &       MSD &    mixup &  12.54$\\pm$1.03 & 1.66$\\pm$0.14 &  41.25$\\pm$2.00 & 2.06$\\pm$0.06 &        13.80$\\pm$0.82 &     0.96$\\pm$0.06 \\\\\n",
      "MSD|last &       MSD &    mixup &  12.79$\\pm$1.07 & 1.70$\\pm$0.15 &  42.12$\\pm$2.12 & 2.12$\\pm$0.06 &        13.93$\\pm$0.80 &     0.97$\\pm$0.06 \\\\\n",
      "Baseline &       MSD & MP &  12.68$\\pm$2.37 & 1.67$\\pm$0.29 &  53.57$\\pm$5.33 & 2.49$\\pm$0.09 &        15.53$\\pm$1.87 &     1.00$\\pm$0.12 \\\\\n",
      "\\bottomrule\n",
      "\\end{tabular}\n",
      "\n"
     ]
    }
   ],
   "source": [
    "raw_path = '/home/jovyan/uncertainty-estimation/workdir/run_calc_ues_metrics/mixup_electra/'\n",
    "\n",
    "#reg_path = '/data/gkuzmin/uncertainty-estimation/workdir/run_calc_ues_metrics/conll2003_electra_reg_01_fix/'\n",
    "ues = ['msd/all', 'msd/last']\n",
    "ues_names = ['MSD|all', 'MSD|last']\n",
    "ues_layers = ['all', 'last', 'last']\n",
    "metrics = ['rcc-auc', 'rpp']\n",
    "metric_names = ['rcc-auc', 'rpp']\n",
    "types = ['mrpc', 'cola', 'sst2']\n",
    "types_names = ['MRPC', 'CoLA', 'SST2 (10%)']\n",
    "ue_methods = ['max_prob', 'mixup']\n",
    "perc_metrics = ['rejection-curve-auc', 'rpp']\n",
    "diff_metrics = ['rejection-curve-auc', 'roc-auc']\n",
    "\n",
    "\n",
    "# copied from table\n",
    "baselines_dict = {'mrpcrejection-curve-aucmax_prob': 0.9208435457516339 * 100,\n",
    "                  'mrpcrcc-aucmax_prob': 23.279293481630972,\n",
    "                  'mrpcrppmax_prob': 0.026788574907087016 * 100,\n",
    "                  'colarejection-curve-aucmax_prob': 0.9203619367209971 * 100,\n",
    "                  'colarcc-aucmax_prob': 59.03726591032054,\n",
    "                  'colarppmax_prob': 0.02631936969193335 * 100,\n",
    "                  'sst2rejection-curve-aucmax_prob': 0.9379778287461774 * 100,\n",
    "                  'sst2rcc-aucmax_prob': 18.067838464295736,\n",
    "                  'sst2rppmax_prob': 0.012349462026204303 * 100}\n",
    "raw_df, baselines_dict = get_df(raw_path, 'MSD', baselines_dict, True)\n",
    "\n",
    "miscl_df = raw_df\n",
    "miscl_df.reset_index(inplace=True, drop=True)\n",
    "\n",
    "latex_table = miscl_df.to_latex(bold_rows=False, index=False)\n",
    "latex_table = latex_table.replace('\\\\$\\\\textbackslash pm\\\\$', '$\\pm$')\n",
    "latex_table = latex_table.replace('variance', 'PV')\n",
    "latex_table = latex_table.replace('var\\_ratio', 'VR')\n",
    "latex_table = latex_table.replace('sampled\\_entropy', 'SE')\n",
    "latex_table = latex_table.replace('sampled\\_max\\_prob', 'SMP')\n",
    "latex_table = latex_table.replace('mahalanobis\\_distance', 'MD')\n",
    "latex_table = latex_table.replace('max\\_prob', 'MP')\n",
    "latex_table = latex_table.replace('bald', 'BALD')\n",
    "print(latex_table)"
   ]
  },
  {
   "cell_type": "code",
   "execution_count": 51,
   "metadata": {},
   "outputs": [
    {
     "name": "stdout",
     "output_type": "stream",
     "text": [
      "\\begin{tabular}{llllll}\n",
      "\\toprule\n",
      "  Method & Reg. Type &                     UE Score & (cola, rejection-curve-auc) & (cola, rcc-auc) &   (cola, rpp) \\\\\n",
      "\\midrule\n",
      "      MD &    metric &         MD &               0.37$\\pm$0.12 &  46.30$\\pm$2.97 & 2.23$\\pm$0.12 \\\\\n",
      "      MD &    metric & SMD &              -0.13$\\pm$0.12 &  55.56$\\pm$2.39 & 2.76$\\pm$0.11 \\\\\n",
      "Baseline &    metric &                     MP &              91.81$\\pm$0.13 &  56.01$\\pm$3.06 & 2.82$\\pm$0.11 \\\\\n",
      "\\bottomrule\n",
      "\\end{tabular}\n",
      "\n"
     ]
    }
   ],
   "source": [
    "raw_path = '/notebook/ue/uncertainty-estimation/workdir/run_calc_ues_metrics/metric_opt_electra_3hyp/'\n",
    "\n",
    "#reg_path = '/data/gkuzmin/uncertainty-estimation/workdir/run_calc_ues_metrics/conll2003_electra_reg_01_fix/'\n",
    "ues = ['maha_mc']\n",
    "ues_names = ['MD']\n",
    "ues_layers = ['-']\n",
    "\n",
    "metrics = ['rejection-curve-auc', 'rcc-auc', 'rpp']\n",
    "metric_names = ['rejection-curve-auc', 'rcc-auc', 'rpp']\n",
    "types = ['cola']#['mrpc', 'sst2']#['mrpc', 'cola', 'sst2']\n",
    "types_names = ['cola']#['MRPC', 'SST2 (10%)']#['MRPC', 'CoLA', 'SST2 (10%)']\n",
    "ue_methods = ['max_prob', 'mahalanobis_distance', 'sampled_mahalanobis_distance']\n",
    "\n",
    "perc_metrics = ['rejection-curve-auc', 'rpp']\n",
    "diff_metrics = ['rejection-curve-auc', 'roc-auc']\n",
    "\n",
    "# copied from table\n",
    "baselines_dict = {'mrpcrejection-curve-aucmax_prob': 0.9208435457516339 * 100,\n",
    "                  'mrpcrcc-aucmax_prob': 23.279293481630972,\n",
    "                  'mrpcrppmax_prob': 0.026788574907087016 * 100,\n",
    "                  'colarejection-curve-aucmax_prob': 0.9203619367209971 * 100,\n",
    "                  'colarcc-aucmax_prob': 59.03726591032054,\n",
    "                  'colarppmax_prob': 0.02631936969193335 * 100,\n",
    "                  'sst2rejection-curve-aucmax_prob': 0.9379778287461774 * 100,\n",
    "                  'sst2rcc-aucmax_prob': 18.067838464295736,\n",
    "                  'sst2rppmax_prob': 0.012349462026204303 * 100}\n",
    "raw_df, baselines_dict = get_df(raw_path, 'metric', baselines_dict, True)\n",
    "\n",
    "miscl_df = raw_df\n",
    "miscl_df.reset_index(inplace=True, drop=True)\n",
    "\n",
    "latex_table = miscl_df.to_latex(bold_rows=False, index=False)\n",
    "latex_table = latex_table.replace('\\\\$\\\\textbackslash pm\\\\$', '$\\pm$')\n",
    "latex_table = latex_table.replace('variance', 'PV')\n",
    "latex_table = latex_table.replace('var\\_ratio', 'VR')\n",
    "latex_table = latex_table.replace('sampled\\_entropy', 'SE')\n",
    "latex_table = latex_table.replace('sampled\\_max\\_prob', 'SMP')\n",
    "latex_table = latex_table.replace('mahalanobis\\_distance', 'MD')\n",
    "latex_table = latex_table.replace('sampled\\_MD', 'SMD')\n",
    "latex_table = latex_table.replace('max\\_prob', 'MP')\n",
    "latex_table = latex_table.replace('bald', 'BALD')\n",
    "print(latex_table)"
   ]
  },
  {
   "cell_type": "code",
   "execution_count": 52,
   "metadata": {},
   "outputs": [
    {
     "name": "stdout",
     "output_type": "stream",
     "text": [
      "\\begin{tabular}{llllll}\n",
      "\\toprule\n",
      "      Method & Reg. Type &                     UE Score & (CoLA, rejection-curve-auc) &  (CoLA, rcc-auc) &   (CoLA, rpp) \\\\\n",
      "\\midrule\n",
      "MD SN (Ours) &    metric &         MD &              -1.06$\\pm$0.21 &   70.29$\\pm$3.13 & 3.44$\\pm$0.18 \\\\\n",
      "MD SN (Ours) &    metric & SMD &              -3.71$\\pm$0.38 & 175.69$\\pm$11.57 & 6.18$\\pm$0.34 \\\\\n",
      "    Baseline &    metric &                     MP &              89.46$\\pm$0.41 & 148.20$\\pm$12.91 & 5.18$\\pm$0.47 \\\\\n",
      "\\bottomrule\n",
      "\\end{tabular}\n",
      "\n"
     ]
    }
   ],
   "source": [
    "raw_path = '/notebook/ue/uncertainty-estimation/workdir/run_calc_ues_metrics/metric_opt_electra_3hyp/'\n",
    "\n",
    "#reg_path = '/data/gkuzmin/uncertainty-estimation/workdir/run_calc_ues_metrics/conll2003_electra_reg_01_fix/'\n",
    "ues = ['maha_sn_mc']\n",
    "ues_names = ['MD SN (Ours)']\n",
    "ues_layers = ['-']\n",
    "\n",
    "metrics = ['rejection-curve-auc', 'rcc-auc', 'rpp']\n",
    "metric_names = ['rejection-curve-auc', 'rcc-auc', 'rpp']\n",
    "types = ['cola']#['mrpc', 'sst2']#['mrpc', 'cola', 'sst2']\n",
    "types_names = ['CoLA']#['MRPC', 'SST2 (10%)']#['MRPC', 'CoLA', 'SST2 (10%)']\n",
    "ue_methods = ['max_prob', 'mahalanobis_distance', 'sampled_mahalanobis_distance']\n",
    "\n",
    "perc_metrics = ['rejection-curve-auc', 'rpp']\n",
    "diff_metrics = ['rejection-curve-auc', 'roc-auc']\n",
    "\n",
    "# copied from table\n",
    "baselines_dict = {'mrpcrejection-curve-aucmax_prob': 0.9208435457516339 * 100,\n",
    "                  'mrpcrcc-aucmax_prob': 23.279293481630972,\n",
    "                  'mrpcrppmax_prob': 0.026788574907087016 * 100,\n",
    "                  'colarejection-curve-aucmax_prob': 0.9203619367209971 * 100,\n",
    "                  'colarcc-aucmax_prob': 59.03726591032054,\n",
    "                  'colarppmax_prob': 0.02631936969193335 * 100,\n",
    "                  'sst2rejection-curve-aucmax_prob': 0.9379778287461774 * 100,\n",
    "                  'sst2rcc-aucmax_prob': 18.067838464295736,\n",
    "                  'sst2rppmax_prob': 0.012349462026204303 * 100}\n",
    "raw_df, baselines_dict = get_df(raw_path, 'metric', baselines_dict, True)\n",
    "\n",
    "miscl_df = raw_df\n",
    "miscl_df.reset_index(inplace=True, drop=True)\n",
    "\n",
    "latex_table = miscl_df.to_latex(bold_rows=False, index=False)\n",
    "latex_table = latex_table.replace('\\\\$\\\\textbackslash pm\\\\$', '$\\pm$')\n",
    "latex_table = latex_table.replace('variance', 'PV')\n",
    "latex_table = latex_table.replace('var\\_ratio', 'VR')\n",
    "latex_table = latex_table.replace('sampled\\_entropy', 'SE')\n",
    "latex_table = latex_table.replace('sampled\\_max\\_prob', 'SMP')\n",
    "latex_table = latex_table.replace('mahalanobis\\_distance', 'MD')\n",
    "latex_table = latex_table.replace('sampled\\_MD', 'SMD')\n",
    "latex_table = latex_table.replace('max\\_prob', 'MP')\n",
    "latex_table = latex_table.replace('bald', 'BALD')\n",
    "print(latex_table)"
   ]
  },
  {
   "cell_type": "code",
   "execution_count": null,
   "metadata": {},
   "outputs": [],
   "source": []
  },
  {
   "cell_type": "code",
   "execution_count": 32,
   "metadata": {},
   "outputs": [
    {
     "name": "stdout",
     "output_type": "stream",
     "text": [
      "\\begin{tabular}{llllll}\n",
      "\\toprule\n",
      "  Method & Reg. Type &                     UE Score & (MRPC, rejection-curve-auc) & (MRPC, rcc-auc) &   (MRPC, rpp) \\\\\n",
      "\\midrule\n",
      "      MD &    metric &         MD &               0.23$\\pm$0.36 &  18.38$\\pm$3.13 & 2.29$\\pm$0.32 \\\\\n",
      "      MD &    metric & SMD &              -0.61$\\pm$1.02 & 31.14$\\pm$11.04 & 3.14$\\pm$0.98 \\\\\n",
      "Baseline &    metric &                     MP &              91.46$\\pm$0.35 &  27.26$\\pm$7.23 & 3.14$\\pm$0.34 \\\\\n",
      "\\bottomrule\n",
      "\\end{tabular}\n",
      "\n"
     ]
    }
   ],
   "source": [
    "# MRPC with new pars, maha\n",
    "raw_path = '/notebook/ue/uncertainty-estimation/workdir/run_calc_ues_metrics/metric_opt_electra_fix/'\n",
    "\n",
    "#reg_path = '/data/gkuzmin/uncertainty-estimation/workdir/run_calc_ues_metrics/conll2003_electra_reg_01_fix/'\n",
    "ues = ['maha_mc']\n",
    "ues_names = ['MD']\n",
    "ues_layers = ['-']\n",
    "\n",
    "metrics = ['rejection-curve-auc', 'rcc-auc', 'rpp']\n",
    "metric_names = ['rejection-curve-auc', 'rcc-auc', 'rpp']\n",
    "types = ['mrpc']\n",
    "types_names = ['MRPC']\n",
    "ue_methods = ['max_prob', 'mahalanobis_distance', 'sampled_mahalanobis_distance']\n",
    "\n",
    "perc_metrics = ['rejection-curve-auc', 'rpp']\n",
    "diff_metrics = ['rejection-curve-auc', 'roc-auc']\n",
    "\n",
    "# copied from table\n",
    "baselines_dict = {'mrpcrejection-curve-aucmax_prob': 0.9208435457516339 * 100,\n",
    "                  'mrpcrcc-aucmax_prob': 23.279293481630972,\n",
    "                  'mrpcrppmax_prob': 0.026788574907087016 * 100,\n",
    "                  'colarejection-curve-aucmax_prob': 0.9203619367209971 * 100,\n",
    "                  'colarcc-aucmax_prob': 59.03726591032054,\n",
    "                  'colarppmax_prob': 0.02631936969193335 * 100,\n",
    "                  'sst2rejection-curve-aucmax_prob': 0.9379778287461774 * 100,\n",
    "                  'sst2rcc-aucmax_prob': 18.067838464295736,\n",
    "                  'sst2rppmax_prob': 0.012349462026204303 * 100}\n",
    "raw_df, baselines_dict = get_df(raw_path, 'metric', baselines_dict, True)\n",
    "\n",
    "miscl_df = raw_df\n",
    "miscl_df.reset_index(inplace=True, drop=True)\n",
    "\n",
    "latex_table = miscl_df.to_latex(bold_rows=False, index=False)\n",
    "latex_table = latex_table.replace('\\\\$\\\\textbackslash pm\\\\$', '$\\pm$')\n",
    "latex_table = latex_table.replace('variance', 'PV')\n",
    "latex_table = latex_table.replace('var\\_ratio', 'VR')\n",
    "latex_table = latex_table.replace('sampled\\_entropy', 'SE')\n",
    "latex_table = latex_table.replace('sampled\\_max\\_prob', 'SMP')\n",
    "latex_table = latex_table.replace('mahalanobis\\_distance', 'MD')\n",
    "latex_table = latex_table.replace('sampled\\_MD', 'SMD')\n",
    "latex_table = latex_table.replace('max\\_prob', 'MP')\n",
    "latex_table = latex_table.replace('bald', 'BALD')\n",
    "print(latex_table)"
   ]
  },
  {
   "cell_type": "code",
   "execution_count": 33,
   "metadata": {},
   "outputs": [
    {
     "name": "stdout",
     "output_type": "stream",
     "text": [
      "\\begin{tabular}{llllll}\n",
      "\\toprule\n",
      "  Method & Reg. Type &                     UE Score & (MRPC, rejection-curve-auc) & (MRPC, rcc-auc) &   (MRPC, rpp) \\\\\n",
      "\\midrule\n",
      "      MD &    metric &         MD &               0.58$\\pm$0.40 &  15.95$\\pm$2.84 & 2.03$\\pm$0.40 \\\\\n",
      "      MD &    metric & SMD &               0.22$\\pm$0.37 &  23.27$\\pm$4.29 & 2.43$\\pm$0.36 \\\\\n",
      "Baseline &    metric &                     MP &              92.16$\\pm$0.52 &  21.00$\\pm$4.21 & 2.57$\\pm$0.46 \\\\\n",
      "\\bottomrule\n",
      "\\end{tabular}\n",
      "\n"
     ]
    }
   ],
   "source": [
    "# MRPC with new pars, maha\n",
    "raw_path = '/notebook/ue/uncertainty-estimation/workdir/run_calc_ues_metrics/metric_opt_electra_fix6/'\n",
    "\n",
    "#reg_path = '/data/gkuzmin/uncertainty-estimation/workdir/run_calc_ues_metrics/conll2003_electra_reg_01_fix/'\n",
    "ues = ['maha_mc']\n",
    "ues_names = ['MD']\n",
    "ues_layers = ['-']\n",
    "\n",
    "metrics = ['rejection-curve-auc', 'rcc-auc', 'rpp']\n",
    "metric_names = ['rejection-curve-auc', 'rcc-auc', 'rpp']\n",
    "types = ['mrpc']\n",
    "types_names = ['MRPC']\n",
    "ue_methods = ['max_prob', 'mahalanobis_distance', 'sampled_mahalanobis_distance']\n",
    "\n",
    "perc_metrics = ['rejection-curve-auc', 'rpp']\n",
    "diff_metrics = ['rejection-curve-auc', 'roc-auc']\n",
    "\n",
    "# copied from table\n",
    "baselines_dict = {'mrpcrejection-curve-aucmax_prob': 0.9208435457516339 * 100,\n",
    "                  'mrpcrcc-aucmax_prob': 23.279293481630972,\n",
    "                  'mrpcrppmax_prob': 0.026788574907087016 * 100,\n",
    "                  'colarejection-curve-aucmax_prob': 0.9203619367209971 * 100,\n",
    "                  'colarcc-aucmax_prob': 59.03726591032054,\n",
    "                  'colarppmax_prob': 0.02631936969193335 * 100,\n",
    "                  'sst2rejection-curve-aucmax_prob': 0.9379778287461774 * 100,\n",
    "                  'sst2rcc-aucmax_prob': 18.067838464295736,\n",
    "                  'sst2rppmax_prob': 0.012349462026204303 * 100}\n",
    "raw_df, baselines_dict = get_df(raw_path, 'metric', baselines_dict, True)\n",
    "\n",
    "miscl_df = raw_df\n",
    "miscl_df.reset_index(inplace=True, drop=True)\n",
    "\n",
    "latex_table = miscl_df.to_latex(bold_rows=False, index=False)\n",
    "latex_table = latex_table.replace('\\\\$\\\\textbackslash pm\\\\$', '$\\pm$')\n",
    "latex_table = latex_table.replace('variance', 'PV')\n",
    "latex_table = latex_table.replace('var\\_ratio', 'VR')\n",
    "latex_table = latex_table.replace('sampled\\_entropy', 'SE')\n",
    "latex_table = latex_table.replace('sampled\\_max\\_prob', 'SMP')\n",
    "latex_table = latex_table.replace('mahalanobis\\_distance', 'MD')\n",
    "latex_table = latex_table.replace('sampled\\_MD', 'SMD')\n",
    "latex_table = latex_table.replace('max\\_prob', 'MP')\n",
    "latex_table = latex_table.replace('bald', 'BALD')\n",
    "print(latex_table)"
   ]
  },
  {
   "cell_type": "code",
   "execution_count": 43,
   "metadata": {},
   "outputs": [
    {
     "name": "stdout",
     "output_type": "stream",
     "text": [
      "\\begin{tabular}{llllll}\n",
      "\\toprule\n",
      "            Method & Reg. Type &         UE Score & (MRPC, rejection-curve-auc) & (MRPC, rcc-auc) &   (MRPC, rpp) \\\\\n",
      "\\midrule\n",
      "                MC &    metric &             BALD &               0.22$\\pm$0.29 &  22.25$\\pm$3.29 & 2.42$\\pm$0.27 \\\\\n",
      "                MC &    metric & SMP &               0.44$\\pm$0.37 &  20.17$\\pm$3.83 & 2.22$\\pm$0.33 \\\\\n",
      "                MC &    metric &         PV &               0.27$\\pm$0.30 &  21.76$\\pm$3.53 & 2.38$\\pm$0.29 \\\\\n",
      "DDPP (+DPP) (Ours) &    metric &             BALD &              -0.21$\\pm$0.65 &  23.46$\\pm$6.14 & 2.83$\\pm$0.66 \\\\\n",
      "DDPP (+DPP) (Ours) &    metric & SMP &              -0.01$\\pm$0.50 &  21.88$\\pm$3.63 & 2.67$\\pm$0.45 \\\\\n",
      "DDPP (+DPP) (Ours) &    metric &         PV &              -0.08$\\pm$0.74 &  22.22$\\pm$6.44 & 2.70$\\pm$0.74 \\\\\n",
      "DDPP (+OOD) (Ours) &    metric &             BALD &              -0.38$\\pm$0.55 &  24.67$\\pm$6.18 & 3.05$\\pm$0.53 \\\\\n",
      "DDPP (+OOD) (Ours) &    metric & SMP &               0.05$\\pm$0.65 &  20.42$\\pm$5.19 & 2.58$\\pm$0.66 \\\\\n",
      "DDPP (+OOD) (Ours) &    metric &         PV &               0.05$\\pm$0.58 &  20.36$\\pm$4.52 & 2.56$\\pm$0.60 \\\\\n",
      "          Baseline &    metric &         MP &              92.16$\\pm$0.52 &  21.00$\\pm$4.21 & 2.57$\\pm$0.46 \\\\\n",
      "\\bottomrule\n",
      "\\end{tabular}\n",
      "\n"
     ]
    }
   ],
   "source": [
    "# New table for MRPC\n",
    "raw_path = '/notebook/ue/uncertainty-estimation/workdir/run_calc_ues_metrics/metric_opt_electra_fix6/'\n",
    "\n",
    "#reg_path = '/data/gkuzmin/uncertainty-estimation/workdir/run_calc_ues_metrics/conll2003_electra_reg_01_fix/'\n",
    "ues = ['all', 'dpp', 'dpp_with_ood']\n",
    "ues_names = ['MC', 'DDPP (+DPP) (Ours)', 'DDPP (+OOD) (Ours)']\n",
    "ues_layers = ['all', 'last', 'last']\n",
    "metrics = ['rejection-curve-auc', 'rcc-auc', 'rpp']\n",
    "metric_names = ['rejection-curve-auc', 'rcc-auc', 'rpp']\n",
    "types = ['mrpc']\n",
    "types_names = ['MRPC']\n",
    "ue_methods = ['max_prob', 'bald', 'sampled_max_prob', 'variance']\n",
    "perc_metrics = ['rejection-curve-auc', 'rpp']\n",
    "diff_metrics = ['rejection-curve-auc', 'roc-auc']\n",
    "\n",
    "\n",
    "# copied from table\n",
    "baselines_dict = {'mrpcrejection-curve-aucmax_prob': 0.9208435457516339 * 100,\n",
    "                  'mrpcrcc-aucmax_prob': 23.279293481630972,\n",
    "                  'mrpcrppmax_prob': 0.026788574907087016 * 100,\n",
    "                  'colarejection-curve-aucmax_prob': 0.9203619367209971 * 100,\n",
    "                  'colarcc-aucmax_prob': 59.03726591032054,\n",
    "                  'colarppmax_prob': 0.02631936969193335 * 100,\n",
    "                  'sst2rejection-curve-aucmax_prob': 0.9379778287461774 * 100,\n",
    "                  'sst2rcc-aucmax_prob': 18.067838464295736,\n",
    "                  'sst2rppmax_prob': 0.012349462026204303 * 100}\n",
    "raw_df, baselines_dict = get_df(raw_path, 'metric', baselines_dict, True)\n",
    "\n",
    "miscl_df = raw_df\n",
    "miscl_df.reset_index(inplace=True, drop=True)\n",
    "\n",
    "latex_table = miscl_df.to_latex(bold_rows=False, index=False)\n",
    "latex_table = latex_table.replace('\\\\$\\\\textbackslash pm\\\\$', '$\\pm$')\n",
    "latex_table = latex_table.replace('variance', 'PV')\n",
    "latex_table = latex_table.replace('var\\_ratio', 'VR')\n",
    "latex_table = latex_table.replace('sampled\\_entropy', 'SE')\n",
    "latex_table = latex_table.replace('sampled\\_max\\_prob', 'SMP')\n",
    "latex_table = latex_table.replace('mahalanobis\\_distance', 'MD')\n",
    "latex_table = latex_table.replace('max\\_prob', 'MP')\n",
    "latex_table = latex_table.replace('bald', 'BALD')\n",
    "print(latex_table)"
   ]
  },
  {
   "cell_type": "code",
   "execution_count": null,
   "metadata": {},
   "outputs": [],
   "source": []
  },
  {
   "cell_type": "code",
   "execution_count": null,
   "metadata": {},
   "outputs": [],
   "source": []
  },
  {
   "cell_type": "code",
   "execution_count": 15,
   "metadata": {},
   "outputs": [],
   "source": [
    "import torch"
   ]
  },
  {
   "cell_type": "code",
   "execution_count": 30,
   "metadata": {},
   "outputs": [],
   "source": [
    "labels = torch.tensor([-100, 0, 1, 2, -100])\n",
    "num_labels = 3"
   ]
  },
  {
   "cell_type": "code",
   "execution_count": 31,
   "metadata": {},
   "outputs": [
    {
     "data": {
      "text/plain": [
       "tensor([0, 0, 1, 2, 0])"
      ]
     },
     "execution_count": 31,
     "metadata": {},
     "output_type": "execute_result"
    }
   ],
   "source": [
    "padding_ids = labels == -100\n",
    "labels[padding_ids] = 0\n",
    "labels"
   ]
  },
  {
   "cell_type": "code",
   "execution_count": 32,
   "metadata": {},
   "outputs": [
    {
     "data": {
      "text/plain": [
       "tensor([[1, 0, 0],\n",
       "        [1, 0, 0],\n",
       "        [0, 1, 0],\n",
       "        [0, 0, 1],\n",
       "        [1, 0, 0]])"
      ]
     },
     "execution_count": 32,
     "metadata": {},
     "output_type": "execute_result"
    }
   ],
   "source": [
    "one_hot = torch.nn.functional.one_hot(labels, num_classes=num_labels)\n",
    "one_hot"
   ]
  },
  {
   "cell_type": "code",
   "execution_count": 33,
   "metadata": {},
   "outputs": [],
   "source": [
    "one_hot[padding_ids] = 0"
   ]
  },
  {
   "cell_type": "code",
   "execution_count": 34,
   "metadata": {},
   "outputs": [
    {
     "data": {
      "text/plain": [
       "tensor([[0, 0, 0],\n",
       "        [1, 0, 0],\n",
       "        [0, 1, 0],\n",
       "        [0, 0, 1],\n",
       "        [0, 0, 0]])"
      ]
     },
     "execution_count": 34,
     "metadata": {},
     "output_type": "execute_result"
    }
   ],
   "source": [
    "one_hot"
   ]
  },
  {
   "cell_type": "code",
   "execution_count": null,
   "metadata": {},
   "outputs": [],
   "source": []
  }
 ],
 "metadata": {
  "kernelspec": {
   "display_name": "Python 3",
   "language": "python",
   "name": "python3"
  },
  "language_info": {
   "codemirror_mode": {
    "name": "ipython",
    "version": 3
   },
   "file_extension": ".py",
   "mimetype": "text/x-python",
   "name": "python",
   "nbconvert_exporter": "python",
   "pygments_lexer": "ipython3",
   "version": "3.8.6"
  }
 },
 "nbformat": 4,
 "nbformat_minor": 5
}
