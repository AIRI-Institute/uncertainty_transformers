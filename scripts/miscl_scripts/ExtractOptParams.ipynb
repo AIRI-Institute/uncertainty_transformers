{
 "cells": [
  {
   "cell_type": "code",
   "execution_count": 1,
   "id": "8173c833-b28a-4d42-9a2f-0ceed176afce",
   "metadata": {},
   "outputs": [],
   "source": [
    "import os\n",
    "import json\n",
    "import yaml\n",
    "import numpy as np"
   ]
  },
  {
   "cell_type": "markdown",
   "id": "1040c055-8b87-4fa1-915c-56f843dfbbfa",
   "metadata": {},
   "source": [
    "# In this part we extract params after hypopt in the format used for scripts"
   ]
  },
  {
   "cell_type": "code",
   "execution_count": 2,
   "id": "bb5b6820-e95c-4fe8-bec8-7a3d41a488d4",
   "metadata": {},
   "outputs": [],
   "source": [
    "path = '../../workdir/run_train_models/distilbert_hypopt/metric_sn_fixed_range_last_last_fix/'\n",
    "# for metric loss on electra\n",
    "path = '../../workdir/run_train_models/metric_electra_hypopt_params_fix_new_lamb_171'\n",
    "path = '../../workdir/run_train_models/metric_electra_hypopt_params_fix_new_lamb'\n",
    "# all for distilbert\n",
    "path = '../../workdir/run_train_models/distilbert_hypopt/raw_sn'\n",
    "\n",
    "path = '../../workdir/run_train_models/distilbert_hypopt/metric_fixed_range_last_last_fix_171/'\n"
   ]
  },
  {
   "cell_type": "code",
   "execution_count": 18,
   "id": "310fa0cf-ecff-453a-ad0b-36d88a008c72",
   "metadata": {},
   "outputs": [],
   "source": [
    "path = '../../workdir/run_train_models/mixup_electra_hypopt_after_repro'\n",
    "#path = '../../workdir/run_train_models/mixup_deberta_hypopt'\n",
    "#path = '../../workdir/run_train_models/mixup_distilbert_hypopt'\n",
    "path = '../../workdir/run_train_models/metric_electra_hypopt_params_50'\n",
    "path = '../../workdir/run_train_models/raw_electra_hypopt_params_sngp'\n",
    "\n",
    "\n",
    "datasets = ['mrpc', 'cola', 'sst2', 'conll']\n",
    "datasets_names = {'mrpc': 'MRPC',\n",
    "                  'cola': 'CoLA',\n",
    "                  'sst2': 'SST-2',\n",
    "                  'conll': 'CoNLL-2003'}\n",
    "regs_names = {'raw': '--', 'raw_sn': '--', 'cer': 'CER', 'cer_sn': 'CER', 'metric': 'Metric', 'metric_sn': 'Metric'}\n",
    "#datasets = ['conll']\n",
    "regs = ['metric', 'metric_sn']\n",
    "regs = ['']\n",
    "regs_names = {'': '--'}\n",
    "params = {'lam1': 'mixup.lam1',\n",
    "          'lam2': 'mixup.lam2',\n",
    "          'omega': 'mixup.omega',\n",
    "          'mixup': 'mixup.mixup',\n",
    "          'self_ensembling': 'mixup.self_ensembling',          \n",
    "          'learning_rate': 'training.learning_rate',\n",
    "          'num_train_epochs': 'training.num_train_epochs',\n",
    "          'per_device_train_batch_size': 'training.per_device_train_batch_size',\n",
    "          'weight_decay': '+training.weight_decay',\n",
    "}"
   ]
  },
  {
   "cell_type": "code",
   "execution_count": 19,
   "id": "82a533fe-63a0-4dff-b5f1-2b3ad0e3bf69",
   "metadata": {},
   "outputs": [],
   "source": [
    "datasets = ['mrpc', 'cola', 'sst2', 'conll']\n",
    "datasets_names = {'mrpc': 'MRPC',\n",
    "                  'cola': 'CoLA',\n",
    "                  'sst2': 'SST-2',\n",
    "                  'conll': 'CoNLL-2003'}\n",
    "regs_names = {'raw': '--', 'raw_sn': '--', 'cer': 'CER', 'cer_sn': 'CER', 'metric': 'Metric', 'metric_sn': 'Metric'}\n",
    "#datasets = ['conll']\n",
    "regs = ['metric', 'metric_sn']\n",
    "regs = ['']\n",
    "regs_names = {'': '--'}\n",
    "params = {'lamb': 'ue.lamb',\n",
    "          'lamb_intra': '+ue.lamb_intra',\n",
    "          'learning_rate': 'training.learning_rate',\n",
    "          'margin': '+ue.margin',\n",
    "          'num_train_epochs': 'training.num_train_epochs',\n",
    "          'per_device_train_batch_size': 'training.per_device_train_batch_size',\n",
    "          'weight_decay': '+training.weight_decay',\n",
    "}"
   ]
  },
  {
   "cell_type": "code",
   "execution_count": 21,
   "id": "b9d29e51-dc3f-4de5-b667-40be953bc91a",
   "metadata": {},
   "outputs": [
    {
     "name": "stdout",
     "output_type": "stream",
     "text": [
      "../../workdir/run_train_models/raw_electra_hypopt_params_sngp/mrpc/raw/models/mrpc/23419\n",
      "mrpc  0.8680479825517994  ue.lamb\\=0.01 +ue.lamb_intra\\=0.2 training.learning_rate\\=0.0001 +ue.margin\\=0.025 training.num_train_epochs\\=10 training.per_device_train_batch_size\\=32 +training.weight_decay\\=0.01\n",
      "../../workdir/run_train_models/raw_electra_hypopt_params_sngp/cola/raw/models/cola/23419\n",
      "cola  0.8755846585594013  ue.lamb\\=0.006 +ue.lamb_intra\\=0.01 training.learning_rate\\=2e-05 +ue.margin\\=2.5 training.num_train_epochs\\=4 training.per_device_train_batch_size\\=32 +training.weight_decay\\=0\n",
      "../../workdir/run_train_models/raw_electra_hypopt_params_sngp/sst2/raw/models/sst2/23419\n",
      "sst2  0.9364608076009501  ue.lamb\\=0.001 +ue.lamb_intra\\=0.002 training.learning_rate\\=9e-06 +ue.margin\\=0.25 training.num_train_epochs\\=7 training.per_device_train_batch_size\\=16 +training.weight_decay\\=0.1\n",
      "../../workdir/run_train_models/raw_electra_hypopt_params_sngp/conll/raw/models/conll2003/23419\n",
      "conll  0.9098360655737705  ue.lamb\\=0.1 +ue.lamb_intra\\=0.001 training.learning_rate\\=5e-05 +ue.margin\\=0.025 training.num_train_epochs\\=85 training.per_device_train_batch_size\\=8 +training.weight_decay\\=0.01\n"
     ]
    }
   ],
   "source": [
    "for dataset in datasets:\n",
    "    for reg in regs:\n",
    "        buf_path = os.path.join(path, dataset, reg)\n",
    "        params_string = ''\n",
    "        for pat, subdirs, files in os.walk(buf_path):\n",
    "            for name in files:\n",
    "                params_string = ''\n",
    "                if name == 'optimal_hyperparameters.yaml':\n",
    "                    print(pat)\n",
    "                    keywords = pat.split('/')[-4], pat.split('/')[-2]\n",
    "                    new_path = '../../workdir/opt_params_electra_20_sngp/'\n",
    "                    new_path += keywords[0] + '_' + keywords[1] + '_' + name\n",
    "                    opt_path = os.path.join(pat, name)\n",
    "                    with open(opt_path, 'r') as f:\n",
    "                        data = yaml.safe_load(f)\n",
    "                        with open(new_path, 'w') as wr_f:\n",
    "                            yaml.dump(data, wr_f, default_flow_style=False)\n",
    "                        for key, value in data.items():\n",
    "                            param_key = params.get(key, None)\n",
    "                            if param_key is not None:\n",
    "                                params_string += f' {param_key}\\={value}'\n",
    "                        #/params_string += f' ue.reg_type\\=metric'\n",
    "                        print(dataset, reg, data['objective'], params_string)"
   ]
  },
  {
   "cell_type": "markdown",
   "id": "4b997c3d-b901-46ba-9ff2-9e2cdaa9212d",
   "metadata": {},
   "source": [
    "# Here we extract the same params, but for table in paper"
   ]
  },
  {
   "cell_type": "code",
   "execution_count": 23,
   "id": "00b8659b-8905-4e9a-a6f6-4ab7b399f1e3",
   "metadata": {},
   "outputs": [],
   "source": [
    "# extract strings for paper table\n",
    "def to_scientific(value):\n",
    "    if value == 0 or value == 1.0:\n",
    "        return str(value)\n",
    "    else:\n",
    "        return str(np.format_float_scientific(value, exp_digits=1)).replace('.', '')\n",
    "\n",
    "def get_param_string(dataset_name, reg_type, sn, params):\n",
    "    result_string = dataset_name + ' & ' + reg_type + ' & '\n",
    "    result_string += '+ & ' if sn else '- & '\n",
    "    #print(params)\n",
    "    result_string += str(round(params['objective'], 3)) + ' & '\n",
    "    if reg_type.lower() == 'metric':\n",
    "        buf = to_scientific(params['lamb_intra']) + '/' + to_scientific(params['lamb']) + ' & ' + str(params['margin']) + ' & '\n",
    "    elif reg_type.lower() == 'cer':\n",
    "        buf = to_scientific(params['lamb']) + ' & - & '\n",
    "    else:\n",
    "        buf = '- & - & '\n",
    "    result_string += buf\n",
    "    pars = ['learning_rate', 'num_train_epochs', 'per_device_train_batch_size', 'weight_decay']\n",
    "    for par in pars:\n",
    "        if par in ['num_train_epochs', 'per_device_train_batch_size']:\n",
    "            result_string += str(params[par]) + ' & '\n",
    "        else:\n",
    "            result_string += to_scientific(params[par]) + ' & '\n",
    "    result_string = result_string[:-3]\n",
    "    print(result_string)\n",
    "    return result_string"
   ]
  },
  {
   "cell_type": "code",
   "execution_count": null,
   "id": "090a158c-e8df-42ea-8d09-7bed50cae8cc",
   "metadata": {},
   "outputs": [
    {
     "name": "stdout",
     "output_type": "stream",
     "text": [
      "{'lamb': 0.006, 'lamb_intra': 0.003, 'learning_rate': 2e-05, 'margin': 5.0, 'num_train_epochs': 10, 'objective': 0.8255179934569248, 'per_device_train_batch_size': 32, 'weight_decay': 0.1}\n",
      "MRPC & Metric & + & 0.826 & 3e-3/6e-3 & 5.0 & 2e-5 & 10 & 32 & 1e-1\n",
      "{'lamb': 0.001, 'lamb_intra': 1.0, 'learning_rate': 2e-05, 'margin': 0.5, 'num_train_epochs': 7, 'objective': 0.8026192703461179, 'per_device_train_batch_size': 16, 'weight_decay': 0.01}\n",
      "CoLA & Metric & + & 0.803 & 1.0/1e-3 & 0.5 & 2e-5 & 7 & 16 & 1e-2\n",
      "{'lamb': 0.001, 'lamb_intra': 0.05, 'learning_rate': 5e-05, 'margin': 0.25, 'num_train_epochs': 8, 'objective': 0.9020190023752969, 'per_device_train_batch_size': 8, 'weight_decay': 0.1}\n",
      "SST-2 & Metric & + & 0.902 & 5e-2/1e-3 & 0.25 & 5e-5 & 8 & 8 & 1e-1\n",
      "{'epoch': 9.0, 'eval_accuracy': 0.9684598315272421, 'eval_f1': 0.8437175493250259, 'eval_loss': 0.19174200296401978, 'eval_precision': 0.824594046008119, 'eval_recall': 0.8637491141034727, 'eval_runtime': 5.3082, 'eval_samples_per_second': 650.507, 'eval_steps_per_second': 10.173, 'lamb': 0.02, 'lamb_intra': 0.1, 'learning_rate': 0.0001, 'margin': 0.01, 'num_train_epochs': 9, 'objective': 0.8881578947368421, 'per_device_train_batch_size': 16, 'weight_decay': 0.01}\n",
      "CoNLL-2003 & Metric & + & 0.888 & 1e-1/2e-2 & 0.01 & 1e-4 & 9 & 16 & 1e-2\n"
     ]
    }
   ],
   "source": [
    "path = '../../workdir/run_train_models/distilbert_hypopt/cer_sn'\n",
    "path = '../../workdir/run_train_models/distilbert_hypopt/metric_sn_fixed_range_last_last_fix/'\n",
    "path = '../../workdir/run_train_models/distilbert_hypopt/metric_sn_fixed_range_last_last_fix_171/'\n",
    "\n",
    "\n",
    "regs_names = {'': 'Metric'}\n",
    "for dataset in datasets:\n",
    "    for reg in regs:\n",
    "        buf_path = os.path.join(path, dataset, reg)\n",
    "        params_string = ''\n",
    "        for pat, subdirs, files in os.walk(buf_path):\n",
    "            for name in files:\n",
    "                if name == 'optimal_hyperparameters.yaml':\n",
    "                    opt_path = os.path.join(pat, name)\n",
    "                    with open(opt_path, 'r') as f:\n",
    "                        data = yaml.safe_load(f)\n",
    "                    dataset_name = datasets_names[dataset]\n",
    "                    reg_name = regs_names[reg]\n",
    "                    sn = True#'sn' in reg\n",
    "                    res_string = get_param_string(dataset_name, reg_name, sn, data)"
   ]
  },
  {
   "cell_type": "code",
   "execution_count": 28,
   "id": "da135721-a814-489f-bafc-ba06314a5582",
   "metadata": {},
   "outputs": [
    {
     "name": "stdout",
     "output_type": "stream",
     "text": [
      "cola deberta_metric_no_sn\n",
      "cola & metric & - & 0.862 & 8e-3/6e-3 & 0.025 & 1e-5 & 12 & 4 & 1e-1\n",
      "conll2003 deberta_metric_no_sn\n",
      "conll2003 & metric & - & 0.908 & 2e-2/1e-1 & 0.5 & 3e-5 & 14 & 8 & 1e-2\n",
      "mrpc deberta_metric_no_sn\n",
      "mrpc & metric & - & 0.885 & 6e-3/1.0 & 5.0 & 9e-6 & 13 & 8 & 1e-1\n",
      "sst2 deberta_metric_no_sn\n",
      "sst2 & metric & - & 0.902 & 6e-3/8e-3 & 0.05 & 7e-6 & 8 & 16 & 1e-1\n",
      "cola deberta_metric_sn\n",
      "cola & metric & + & 0.86 & 1.0/3e-3 & 0.1 & 6e-6 & 11 & 4 & 1e-2\n",
      "conll2003 deberta_metric_sn\n",
      "conll2003 & metric & + & 0.898 & 2e-3/5e-3 & 5.0 & 7e-5 & 12 & 8 & 1e-2\n",
      "mrpc deberta_metric_sn\n",
      "mrpc & metric & + & 0.883 & 8e-3/5e-2 & 2.5 & 2e-5 & 14 & 16 & 1e-1\n",
      "sst2 deberta_metric_sn\n",
      "sst2 & metric & + & 0.902 & 6e-3/5e-3 & 0.025 & 5e-5 & 6 & 64 & 1e-1\n",
      "cola deberta_raw_no_sn\n",
      "cola & raw & - & 0.86 & - & - & 7e-6 & 13 & 4 & 0\n",
      "conll2003 deberta_raw_no_sn\n",
      "conll2003 & raw & - & 0.902 & - & - & 5e-5 & 12 & 32 & 0\n",
      "mrpc deberta_raw_no_sn\n",
      "mrpc & raw & - & 0.889 & - & - & 3e-5 & 12 & 4 & 1e-1\n",
      "sst2 deberta_raw_no_sn\n",
      "sst2 & raw & - & 0.906 & - & - & 3e-5 & 5 & 16 & 1e-2\n",
      "cola deberta_raw_sn\n",
      "cola & raw & + & 0.854 & - & - & 7e-6 & 8 & 4 & 1e-1\n",
      "conll2003 deberta_raw_sn\n",
      "conll2003 & raw & + & 0.897 & - & - & 5e-5 & 3 & 4 & 1e-2\n",
      "mrpc deberta_raw_sn\n",
      "mrpc & raw & + & 0.879 & - & - & 9e-6 & 11 & 16 & 1e-1\n",
      "sst2 deberta_raw_sn\n",
      "sst2 & raw & + & 0.901 & - & - & 9e-6 & 11 & 8 & 1e-1\n",
      "cola deberta_reg_no_sn\n",
      "cola & cer & - & 0.854 & 2e-1 & - & 9e-6 & 15 & 16 & 1e-2\n",
      "conll2003 deberta_reg_no_sn\n",
      "conll2003 & cer & - & 0.899 & 2e-1 & - & 2e-5 & 13 & 4 & 1e-1\n",
      "mrpc deberta_reg_no_sn\n",
      "mrpc & cer & - & 0.88 & 1.0 & - & 2e-5 & 10 & 16 & 1e-2\n",
      "sst2 deberta_reg_no_sn\n",
      "sst2 & cer & - & 0.902 & 1e-1 & - & 6e-6 & 6 & 4 & 0\n",
      "cola deberta_reg_sn\n",
      "cola & cer & + & 0.857 & 5e-2 & - & 2e-5 & 11 & 32 & 1e-2\n",
      "conll2003 deberta_reg_sn\n",
      "conll2003 & cer & + & 0.901 & 5e-2 & - & 1e-4 & 10 & 16 & 0\n",
      "mrpc deberta_reg_sn\n",
      "mrpc & cer & + & 0.88 & 6e-3 & - & 2e-5 & 15 & 16 & 0\n",
      "sst2 deberta_reg_sn\n",
      "sst2 & cer & + & 0.902 & 1.0 & - & 7e-6 & 12 & 16 & 1e-2\n"
     ]
    }
   ],
   "source": [
    "# for deberta\n",
    "path = '../../workdir/new_final_results/deberta_opt_params/hp_search'\n",
    "regs_names = {'': 'Metric'}\n",
    "buf_path = os.path.join(path)#, dataset, reg)\n",
    "params_string = ''\n",
    "for pat, subdirs, files in os.walk(buf_path):\n",
    "    for name in files:\n",
    "        if name == 'optimal_hyperparameters.yaml':\n",
    "            opt_path = os.path.join(pat, name)\n",
    "            print(opt_path.split('/')[-2], opt_path.split('/')[-3])\n",
    "            dataset_name = opt_path.split('/')[-2]\n",
    "            reg_name = opt_path.split('/')[-3].split('_')[1]\n",
    "            with open(opt_path, 'r') as f:\n",
    "                data = yaml.safe_load(f)\n",
    "            #dataset_name = datasets_names[dataset]\n",
    "            #reg_name = regs_names[reg]\n",
    "            if 'no_sn' in opt_path:\n",
    "                sn = False\n",
    "            else:\n",
    "                sn = True#'sn' in reg\n",
    "            if reg_name == 'reg':\n",
    "                reg_name = 'cer'\n",
    "            res_string = get_param_string(dataset_name, reg_name, sn, data)"
   ]
  },
  {
   "cell_type": "code",
   "execution_count": 24,
   "id": "5870036b-bdb2-44f7-877f-78adf37b98eb",
   "metadata": {},
   "outputs": [
    {
     "name": "stdout",
     "output_type": "stream",
     "text": [
      "MRPC & -- & + & 0.868 & - & - & 1e-4 & 10 & 32 & 1e-2\n",
      "CoLA & -- & + & 0.876 & - & - & 2e-5 & 4 & 32 & 0\n",
      "SST-2 & -- & + & 0.936 & - & - & 9e-6 & 7 & 16 & 1e-1\n",
      "CoNLL-2003 & -- & + & 0.91 & - & - & 5e-5 & 85 & 8 & 1e-2\n"
     ]
    }
   ],
   "source": [
    "# for electra on old net\n",
    "path = '../../workdir/new_final_results/electra_20_old_net/opt_params_electra_20_sngp'\n",
    "regs_names = {'': 'Metric'}\n",
    "buf_path = os.path.join(path)#, dataset, reg)\n",
    "params_string = ''\n",
    "datasets_names = {'mrpc': 'MRPC',\n",
    "                  'cola': 'CoLA',\n",
    "                  'sst2': 'SST-2',\n",
    "                  'conll': 'CoNLL-2003',\n",
    "                  'conll2003': 'CoNLL-2003'}\n",
    "regs_names = {'raw': '--', 'raw_sn': '--', 'cer': 'CER', 'cer_sn': 'CER', 'metric': 'Metric', 'metric_sn': 'Metric'}\n",
    "all_strings = []\n",
    "for pat, subdirs, files in os.walk(buf_path):\n",
    "    for name in files:\n",
    "        if 'optimal_hyperparameters.yaml' in name:\n",
    "            opt_path = os.path.join(pat, name)\n",
    "            #print(opt_path.split('/')[-2], opt_path.split('/')[-3])\n",
    "            if name.split('_')[1] == 'sn':\n",
    "                dataset_name = name.split('_')[2]\n",
    "            else:\n",
    "                dataset_name = name.split('_')[1]\n",
    "            dataset_name = datasets_names[dataset_name]\n",
    "            reg_name = name.split('_')[0]\n",
    "            reg_name = regs_names[reg_name]\n",
    "            with open(opt_path, 'r') as f:\n",
    "                data = yaml.safe_load(f)\n",
    "            #dataset_name = datasets_names[dataset]\n",
    "            #reg_name = regs_names[reg]\n",
    "            if 'sn' in opt_path:\n",
    "                sn = True\n",
    "            else:\n",
    "                sn = False#'sn' in reg\n",
    "            if reg_name == 'reg':\n",
    "                reg_name = 'cer'\n",
    "            res_string = get_param_string(dataset_name, reg_name, sn, data)\n",
    "            all_strings.append(res_string)"
   ]
  },
  {
   "cell_type": "code",
   "execution_count": 48,
   "id": "7ce87b06-d456-42ef-8205-92e1f1b88f2a",
   "metadata": {},
   "outputs": [
    {
     "name": "stdout",
     "output_type": "stream",
     "text": [
      "CoLA & -- & + & 0.876 & - & - & 3e-5 & 15 & 32 & 1e-1\\\\\n",
      "CoLA & -- & - & 0.88 & - & - & 1e-5 & 8 & 4 & 1e-1\\\\\n",
      "CoLA & CER & + & 0.88 & 1.0 & - & 3e-5 & 11 & 32 & 1e-1\\\\\n",
      "CoLA & CER & - & 0.882 & 1e-2 & - & 9e-6 & 7 & 4 & 1e-2\\\\\n",
      "CoLA & Metric & + & 0.868 & 1e-2/1.0 & 0.1 & 3e-5 & 11 & 32 & 1e-1\\\\\n",
      "CoLA & Metric & - & 0.878 & 1e-2/2e-2 & 0.25 & 9e-6 & 12 & 4 & 1e-1\\\\\n",
      "CoNLL-2003 & -- & + & 0.922 & - & - & 5e-5 & 13 & 8 & 1e-2\\\\\n",
      "CoNLL-2003 & -- & - & 0.909 & - & - & 5e-5 & 6 & 8 & 1e-2\\\\\n",
      "CoNLL-2003 & CER & + & 0.913 & 1e-1 & - & 5e-5 & 13 & 8 & 1e-2\\\\\n",
      "CoNLL-2003 & CER & - & 0.912 & 2e-3 & - & 2e-5 & 15 & 16 & 1e-2\\\\\n",
      "CoNLL-2003 & Metric & + & 0.911 & 6e-3/1e-3 & 0.05 & 5e-5 & 15 & 8 & 0\\\\\n",
      "CoNLL-2003 & Metric & - & 0.909 & 1e-3/1e-1 & 0.025 & 5e-5 & 13 & 8 & 1e-2\\\\\n",
      "MRPC & -- & + & 0.858 & - & - & 3e-5 & 11 & 32 & 1e-1\\\\\n",
      "MRPC & -- & - & 0.867 & - & - & 5e-5 & 12 & 32 & 1e-1\\\\\n",
      "MRPC & CER & + & 0.871 & 1.0 & - & 3e-5 & 12 & 4 & 0\\\\\n",
      "MRPC & CER & - & 0.871 & 2e-1 & - & 5e-5 & 7 & 16 & 1e-2\\\\\n",
      "MRPC & Metric & + & 0.845 & 2e-3/1e-1 & 0.01 & 3e-5 & 10 & 32 & 0\\\\\n",
      "MRPC & Metric & - & 0.844 & 1e-2/1.0 & 0.1 & 3e-5 & 11 & 32 & 1e-1\\\\\n",
      "SST-2 & -- & + & 0.939 & - & - & 5e-5 & 7 & 64 & 1e-2\\\\\n",
      "SST-2 & -- & - & 0.936 & - & - & 1e-5 & 15 & 64 & 1e-1\\\\\n",
      "SST-2 & CER & + & 0.938 & 1.0 & - & 3e-5 & 14 & 16 & 1e-1\\\\\n",
      "SST-2 & CER & - & 0.938 & 2e-2 & - & 3e-5 & 5 & 64 & 0\\\\\n",
      "SST-2 & Metric & + & 0.939 & 8e-3/2e-2 & 10.0 & 3e-5 & 5 & 64 & 0\\\\\n",
      "SST-2 & Metric & - & 0.941 & 8e-3/2e-2 & 10.0 & 3e-5 & 5 & 64 & 0\\\\\n"
     ]
    }
   ],
   "source": [
    "for string in sorted(all_strings):\n",
    "    print(string + '\\\\\\\\')"
   ]
  },
  {
   "cell_type": "markdown",
   "id": "00a038d8-c095-4da3-9f09-ae54614ce479",
   "metadata": {},
   "source": [
    "# Also extract params in similar way for MSD"
   ]
  },
  {
   "cell_type": "code",
   "execution_count": 51,
   "id": "602eb196-71ed-4335-95f6-79c61353d2ae",
   "metadata": {},
   "outputs": [],
   "source": [
    "def get_param_string_msd(dataset_name, reg_type, sn, params):\n",
    "    result_string = dataset_name + ' & ' + reg_type + ' & '\n",
    "    result_string += '+ & ' if sn else '- & '\n",
    "    print(params)\n",
    "    result_string += str(round(params['objective'], 3)) + ' & '\n",
    "    if reg_type.lower() == 'metric':\n",
    "        buf = to_scientific(params['lamb_intra']) + '/' + to_scientific(params['lamb']) + ' & ' + str(params['margin']) + ' & '\n",
    "    elif reg_type.lower() == 'msd':\n",
    "        buf = to_scientific(params['lam1']) + '/' + to_scientific(params['lam2']) + ' & ' + str(params['omega']) + ' & '\n",
    "    elif reg_type.lower() == 'cer':\n",
    "        buf = to_scientific(params['lamb']) + ' & - & '\n",
    "    else:\n",
    "        buf = '- & - & '\n",
    "    result_string += buf\n",
    "    pars = ['learning_rate', 'num_train_epochs', 'per_device_train_batch_size', 'weight_decay']\n",
    "    for par in pars:\n",
    "        if par in ['num_train_epochs', 'per_device_train_batch_size']:\n",
    "            result_string += str(params[par]) + ' & '\n",
    "        else:\n",
    "            result_string += to_scientific(params[par]) + ' & '\n",
    "    result_string = result_string[:-3]\n",
    "    print(result_string)"
   ]
  },
  {
   "cell_type": "code",
   "execution_count": 60,
   "id": "c7774823-f65a-4d72-834c-b7bb4f3a3213",
   "metadata": {},
   "outputs": [
    {
     "name": "stdout",
     "output_type": "stream",
     "text": [
      "{'lam1': 0.01, 'lam2': 0.02, 'learning_rate': 9e-06, 'mixup': True, 'num_train_epochs': 12, 'objective': 0.8756815703380589, 'omega': 0.5, 'per_device_train_batch_size': 8, 'self_ensembling': True, 'weight_decay': 0.1}\n",
      "MRPC & MSD & - & 0.876 & 1e-2/2e-2 & 0.5 & 9e-6 & 12 & 8 & 1e-1\n",
      "{'lam1': 0.05, 'lam2': 0.003, 'learning_rate': 3e-05, 'mixup': True, 'num_train_epochs': 12, 'objective': 0.8568755846585594, 'omega': 0.65, 'per_device_train_batch_size': 32, 'self_ensembling': True, 'weight_decay': 0}\n",
      "CoLA & MSD & - & 0.857 & 5e-2/3e-3 & 0.65 & 3e-5 & 12 & 32 & 0\n",
      "{'lam1': 0.01, 'lam2': 0.003, 'learning_rate': 1e-05, 'mixup': True, 'num_train_epochs': 11, 'objective': 0.9293349168646081, 'omega': 0.95, 'per_device_train_batch_size': 4, 'self_ensembling': True, 'weight_decay': 0.01}\n",
      "SST-2 & MSD & - & 0.929 & 1e-2/3e-3 & 0.95 & 1e-5 & 11 & 4 & 1e-2\n",
      "{'lam1': 0.1, 'lam2': 0.005, 'learning_rate': 3e-05, 'mixup': True, 'num_train_epochs': 15, 'objective': 0.9354047424366312, 'omega': 0.95, 'per_device_train_batch_size': 4, 'self_ensembling': True, 'weight_decay': 0.1}\n",
      "CoNLL-2003 & MSD & - & 0.935 & 1e-1/5e-3 & 0.95 & 3e-5 & 15 & 4 & 1e-1\n"
     ]
    }
   ],
   "source": [
    "path = '../../workdir/run_train_models/mixup_electra_hypopt_after_repro/'\n",
    "path = '../../workdir/run_train_models/mixup_distilbert_hypopt/'\n",
    "path = '../../workdir/run_train_models/mixup_deberta_hypopt/'\n",
    "\n",
    "regs = ['']\n",
    "regs_names = {'': 'MSD'}\n",
    "for dataset in datasets:\n",
    "    for reg in regs:\n",
    "        buf_path = os.path.join(path, dataset, reg)\n",
    "        params_string = ''\n",
    "        for pat, subdirs, files in os.walk(buf_path):\n",
    "            for name in files:\n",
    "                if name == 'optimal_hyperparameters.yaml':\n",
    "                    opt_path = os.path.join(pat, name)\n",
    "                    with open(opt_path, 'r') as f:\n",
    "                        data = yaml.safe_load(f)\n",
    "                    dataset_name = datasets_names[dataset]\n",
    "                    reg_name = regs_names[reg]\n",
    "                    sn = False#'sn' in reg\n",
    "                    res_string = get_param_string_msd(dataset_name, reg_name, sn, data)"
   ]
  },
  {
   "cell_type": "markdown",
   "id": "cd9cc94f-346e-402e-94b9-d738de8f772a",
   "metadata": {},
   "source": [
    "# Transform params for Deberta"
   ]
  },
  {
   "cell_type": "code",
   "execution_count": 5,
   "id": "51e7363b-5264-4ae6-bce7-c49fe07a6746",
   "metadata": {},
   "outputs": [],
   "source": [
    "deberta_opt = \"\"\"MRPC &         - &            - &         0.888620 &           - &  10.000 &       0.000030 &           12 &           4 &          0.10 \\\\\n",
    "      MRPC &         - &            + &         0.878935 &           - &   0.010 &       0.000009 &           11 &          16 &          0.10 \\\\\n",
    "      MRPC &       CER &            - &         0.880145 &         1.0 &   0.050 &       0.000020 &           10 &          16 &          0.01 \\\\\n",
    "      MRPC &       CER &            + &         0.880145 &       0.006 &   1.000 &       0.000020 &           15 &          16 &          0.00 \\\\\n",
    "      MRPC &    Metric &            - &         0.877724 &    0.2/0.01 &   0.010 &       0.000009 &           14 &           4 &          0.01 \\\\\n",
    "      MRPC &    Metric &            + &         0.871671 & 0.001/0.002 &   0.100 &       0.000030 &            9 &           4 &          0.10 \\\\\n",
    "      CoLA &         - &            - &         0.859667 &           - &   5.000 &       0.000007 &           13 &           4 &          0.00 \\\\\n",
    "      CoLA &         - &            + &         0.854470 &           - &   0.050 &       0.000007 &            8 &           4 &          0.10 \\\\\n",
    "      CoLA &       CER &            - &         0.853950 &         0.2 &   2.500 &       0.000009 &           15 &          16 &          0.01 \\\\\n",
    "      CoLA &       CER &            + &         0.857069 &        0.05 &   0.500 &       0.000020 &           11 &          32 &          0.01 \\\\\n",
    "      CoLA &    Metric &            - &         0.854470 &   1.0/0.003 &   5.000 &       0.000030 &           11 &          32 &          0.01 \\\\\n",
    "      CoLA &    Metric &            + &         0.859148 &  0.02/0.005 &   1.000 &       0.000030 &            6 &          64 &          0.00 \\\\\n",
    "     SST-2 &         - &            - &         0.906271 &           - &   0.500 &       0.000030 &            5 &          16 &          0.01 \\\\\n",
    "     SST-2 &         - &            + &         0.900990 &           - &   0.100 &       0.000009 &           11 &           8 &          0.10 \\\\\n",
    "     SST-2 &       CER &            - &         0.902310 &         0.1 &   0.010 &       0.000006 &            6 &           4 &          0.00 \\\\\n",
    "     SST-2 &       CER &            + &         0.901650 &         1.0 &   0.500 &       0.000007 &           12 &          16 &          0.01 \\\\\n",
    "     SST-2 &    Metric &            - &         0.899670 &  0.008/0.05 &   0.250 &       0.000010 &           12 &          16 &          0.00 \\\\\n",
    "     SST-2 &    Metric &            + &         0.904290 &   0.001/0.1 &   0.050 &       0.000030 &           10 &          16 &          0.00 \\\\\n",
    "CoNLL-2003 &         - &            - &         0.901865 &           - &   5.000 &       0.000050 &           12 &          32 &          0.00 \\\\\n",
    "CoNLL-2003 &         - &            + &         0.896832 &           - &   0.050 &       0.000050 &            3 &           4 &          0.01 \\\\\n",
    "CoNLL-2003 &       CER &            - &         0.898858 &         0.2 &   0.025 &       0.000020 &           13 &           4 &          0.10 \\\\\n",
    "CoNLL-2003 &       CER &            + &         0.900651 &        0.05 &   0.100 &       0.000100 &           10 &          16 &          0.00 \\\\\n",
    "CoNLL-2003 &    Metric &            - &         0.900081 &  0.002/0.01 &   0.500 &       0.000050 &            7 &           8 &          0.01 \\\\\n",
    "CoNLL-2003 &    Metric &            + &         0.901546 &  0.001/0.01 &   1.000 &       0.000070 &           10 &           8 &          0.00 \\\\\"\"\""
   ]
  },
  {
   "cell_type": "code",
   "execution_count": 10,
   "id": "46c92048-4b51-41cb-9d90-5fc89ce04255",
   "metadata": {},
   "outputs": [],
   "source": [
    "strings = deberta_opt.split('\\\\')"
   ]
  },
  {
   "cell_type": "code",
   "execution_count": 36,
   "id": "f86ce702-b4e9-4106-92bb-9b1d40d97b61",
   "metadata": {},
   "outputs": [
    {
     "name": "stdout",
     "output_type": "stream",
     "text": [
      "MRPC  &          --  &             -  & 0.889 & - & 1e+1 & 3e-5 & 12 & 4 & 1e-1\\\\\n",
      "      MRPC  &          --  &             +  & 0.879 & - & 1e-2 & 9e-6 & 11 & 16 & 1e-1\\\\\n",
      "      MRPC  &        CER  &             -  & 0.88 & 1.0 & 5e-2 & 2e-5 & 10 & 16 & 1e-2\\\\\n",
      "      MRPC  &        CER  &             +  & 0.88 & 6e-3 & 1.0 & 2e-5 & 15 & 16 & 0.0\\\\\n",
      "      MRPC  &     Metric  &             -  & 0.878 & 0.2/0.01 & 1e-2 & 9e-6 & 14 & 4 & 1e-2\\\\\n",
      "      MRPC  &     Metric  &             +  & 0.872 & 0.001/0.002 & 1e-1 & 3e-5 & 9 & 4 & 1e-1\\\\\n",
      "      CoLA  &          --  &             -  & 0.86 & - & 5e+0 & 7e-6 & 13 & 4 & 0.0\\\\\n",
      "      CoLA  &          --  &             +  & 0.854 & - & 5e-2 & 7e-6 & 8 & 4 & 1e-1\\\\\n",
      "      CoLA  &        CER  &             -  & 0.854 & 2e-1 & 25e+0 & 9e-6 & 15 & 16 & 1e-2\\\\\n",
      "      CoLA  &        CER  &             +  & 0.857 & 5e-2 & 5e-1 & 2e-5 & 11 & 32 & 1e-2\\\\\n",
      "      CoLA  &     Metric  &             -  & 0.854 & 1.0/0.003 & 5e+0 & 3e-5 & 11 & 32 & 1e-2\\\\\n",
      "      CoLA  &     Metric  &             +  & 0.859 & 0.02/0.005 & 1.0 & 3e-5 & 6 & 64 & 0.0\\\\\n",
      "     SST-2  &          --  &             -  & 0.906 & - & 5e-1 & 3e-5 & 5 & 16 & 1e-2\\\\\n",
      "     SST-2  &          --  &             +  & 0.901 & - & 1e-1 & 9e-6 & 11 & 8 & 1e-1\\\\\n",
      "     SST-2  &        CER  &             -  & 0.902 & 1e-1 & 1e-2 & 6e-6 & 6 & 4 & 0.0\\\\\n",
      "     SST-2  &        CER  &             +  & 0.902 & 1.0 & 5e-1 & 7e-6 & 12 & 16 & 1e-2\\\\\n",
      "     SST-2  &     Metric  &             -  & 0.9 & 0.008/0.05 & 25e-1 & 1e-5 & 12 & 16 & 0.0\\\\\n",
      "     SST-2  &     Metric  &             +  & 0.904 & 0.001/0.1 & 5e-2 & 3e-5 & 10 & 16 & 0.0\\\\\n",
      "CoNLL-2003  &          --  &             -  & 0.902 & - & 5e+0 & 5e-5 & 12 & 32 & 0.0\\\\\n",
      "CoNLL-2003  &          --  &             +  & 0.897 & - & 5e-2 & 5e-5 & 3 & 4 & 1e-2\\\\\n",
      "CoNLL-2003  &        CER  &             -  & 0.899 & 2e-1 & 25e-2 & 2e-5 & 13 & 4 & 1e-1\\\\\n",
      "CoNLL-2003  &        CER  &             +  & 0.901 & 5e-2 & 1e-1 & 1e-4 & 10 & 16 & 0.0\\\\\n",
      "CoNLL-2003  &     Metric  &             -  & 0.9 & 0.002/0.01 & 5e-1 & 5e-5 & 7 & 8 & 1e-2\\\\\n",
      "CoNLL-2003  &     Metric  &             +  & 0.902 & 0.001/0.01 & 1.0 & 7e-5 & 10 & 8 & 0.0\\\\\n",
      "\\\\\n"
     ]
    }
   ],
   "source": [
    "new_strings = []\n",
    "for string in strings:\n",
    "    str_data = string.replace(\"\\n\", \"\")\n",
    "    str_data = str_data.split(\"&\")\n",
    "    if len(str_data) > 1:\n",
    "        if '-' in str_data[1]:\n",
    "            str_data[1] = str_data[1].replace('-', '--')\n",
    "        for i in range(3, 10):\n",
    "            str_data[i] = str_data[i].strip()\n",
    "            try:\n",
    "                str_data[i] = float(str_data[i])\n",
    "                if i in [7,8]:\n",
    "                    str_data[i] = str(int(str_data[i]))\n",
    "                elif i == 3:\n",
    "                    str_data[i] = str(round(str_data[i], 3))\n",
    "                else:\n",
    "                    str_data[i] = to_scientific(str_data[i])\n",
    "            except:\n",
    "                pass\n",
    "    new_strings.append(' & '.join(str_data))\n",
    "    print(' & '.join(str_data) + '\\\\\\\\')"
   ]
  },
  {
   "cell_type": "code",
   "execution_count": null,
   "id": "c23700c3-5b77-4ccd-b421-676f6e173e4f",
   "metadata": {},
   "outputs": [],
   "source": []
  }
 ],
 "metadata": {
  "kernelspec": {
   "display_name": "Python 3 (ipykernel)",
   "language": "python",
   "name": "python3"
  },
  "language_info": {
   "codemirror_mode": {
    "name": "ipython",
    "version": 3
   },
   "file_extension": ".py",
   "mimetype": "text/x-python",
   "name": "python",
   "nbconvert_exporter": "python",
   "pygments_lexer": "ipython3",
   "version": "3.7.12"
  }
 },
 "nbformat": 4,
 "nbformat_minor": 5
}
