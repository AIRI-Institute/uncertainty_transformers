{
 "cells": [
  {
   "cell_type": "code",
   "execution_count": 8,
   "metadata": {},
   "outputs": [],
   "source": [
    "import copy\n",
    "import itertools as it\n",
    "import numpy as np\n",
    "import yaml\n",
    "import os\n",
    "\n",
    "def expand_config(dict_config):\n",
    "    keys, values = zip(*dict_config.items())\n",
    "    permutations_dicts = [dict(zip(keys, v)) for v in it.product(*values)]\n",
    "    return permutations_dicts"
   ]
  },
  {
   "cell_type": "markdown",
   "metadata": {},
   "source": [
    "# Test for all main scripts"
   ]
  },
  {
   "cell_type": "code",
   "execution_count": 9,
   "metadata": {},
   "outputs": [],
   "source": [
    "def generate_str_config(config):\n",
    "    config_list = []\n",
    "    config_list.append('ue\\={}'.format(config['ue']))\n",
    "    if config['ue'] == 'mc-dpp' or config['ue'] == 'mc':\n",
    "        config_list.append('ue.committee_size\\=2')\n",
    "        \n",
    "    config_list.append('do_ue_estimate\\=True')\n",
    "    \n",
    "    use_selective = 'False' if config['reg_type']=='raw' else 'True'\n",
    "    config_list.append('ue.use_selective\\={}'.format(use_selective))\n",
    "    \n",
    "    config_list.append('ue.reg_type\\={}'.format(config['reg_type']))\n",
    "    \n",
    "    config_list.append('++ue.use_spectralnorm\\={}'.format(config['use_spectralnorm']))\n",
    "    config_list.append('data.validation_subsample\\={}'.format(config['validation_subsample']))\n",
    "    config_list.append('data.subsample_perc\\={}'.format(config['subsample_perc']))\n",
    "    \n",
    "    config_list.append('training\\=electra_base')\n",
    "    config_list.append('training.per_device_eval_batch_size\\=32')\n",
    "\n",
    "    config_list.append(\"model.model_name_or_path\\='{}'\".format(config['model_name_or_path']))\n",
    "    return config_list"
   ]
  },
  {
   "cell_type": "code",
   "execution_count": 10,
   "metadata": {},
   "outputs": [],
   "source": [
    "def generate_bash(config, cuda_devices, generate_func, filename):\n",
    "    full_config = '# exit when any command fails\\n'\n",
    "    full_config += 'set -e\\n'\n",
    "    full_config += 'cd ../src\\n'\n",
    "    \n",
    "    n_tests = 0\n",
    "    for conf in expand_config(config):\n",
    "        script = conf['script']\n",
    "        task_name = conf['task']\n",
    "        new_task = f'CUDA_VISIBLE_DEVICES={cuda_devices} HYDRA_CONFIG_PATH=../configs/{task_name}.yaml python {script} '\n",
    "        args = ' '.join(generate_func(conf))\n",
    "\n",
    "        reg = 'reg' if conf['reg_type'] == 'reg-curr' else conf['reg_type']\n",
    "        use_spectralnorm = 'sn' if conf['use_spectralnorm'] == 'True' else 'no_sn'\n",
    "        ue = conf['ue']\n",
    "        \n",
    "        if ue=='sngp':\n",
    "            if reg!='raw':\n",
    "                continue\n",
    "            if use_spectralnorm!='no_sn':\n",
    "                continue\n",
    "            if conf['model_name_or_path']!='google/electra-base-discriminator':\n",
    "                continue\n",
    "        if ue=='mc' or ue=='mc-dpp':\n",
    "            if use_spectralnorm!='no_sn':\n",
    "                continue\n",
    "\n",
    "        new_task += f\"{args}\"\n",
    "        if 'deberta' in conf['model_name_or_path']:\n",
    "            model = 'deberta'\n",
    "        elif 'electra' in conf['model_name_or_path']:\n",
    "            model = 'electra'\n",
    "        elif 'roberta' in conf['model_name_or_path']:\n",
    "            model = 'roberta'\n",
    "        elif 'distilbert' in conf['model_name_or_path']:\n",
    "            model = 'distilbert'\n",
    "        new_task+=f' output_dir=../workdir/run_tests/{model}_{reg}_{use_spectralnorm}/{task_name}/{ue}'\n",
    "\n",
    "        full_config += '\\n' + new_task if len(full_config) else new_task\n",
    "        n_tests += 1\n",
    "    print(f'n_tests: {n_tests}')\n",
    "    with open (f'../../scripts/{filename}', 'w') as rsh:\n",
    "        rsh.write(full_config)"
   ]
  },
  {
   "cell_type": "code",
   "execution_count": 11,
   "metadata": {},
   "outputs": [
    {
     "name": "stdout",
     "output_type": "stream",
     "text": [
      "n_tests: 194\n"
     ]
    }
   ],
   "source": [
    "train_configs = {\n",
    "    'script': ['run_glue.py'],\n",
    "    'validation_subsample': [0.0],\n",
    "    'subsample_perc': [0.02],\n",
    "    \n",
    "    'task': ['cola', 'sst5'],\n",
    "    'ue': ['decomposing_md', 'nuq', 'mahalanobis', 'mc', 'mc-dpp', 'sngp'],\n",
    "    'reg_type': ['metric', 'reg-curr', 'raw'],\n",
    "    'use_spectralnorm': ['False', 'True'],\n",
    "    'model_name_or_path': ['microsoft/deberta-base', 'roberta-base', \n",
    "                           'google/electra-base-discriminator', 'distilbert-base-cased']\n",
    "}\n",
    "    \n",
    "cuda_devices = '0'\n",
    "\n",
    "generate_bash(train_configs, cuda_devices, generate_str_config, 'miscl_scripts/run_tests.sh')"
   ]
  },
  {
   "cell_type": "code",
   "execution_count": 12,
   "metadata": {},
   "outputs": [],
   "source": [
    "def generate_str_config(config):\n",
    "    config_list = []\n",
    "    config_list.append('ue\\={}'.format(config['ue']))\n",
    "    config_list.append('do_ue_estimate\\=True')\n",
    "    \n",
    "    use_selective = 'False' if config['reg_type']=='raw' else 'True'\n",
    "    config_list.append('ue.use_selective\\={}'.format(use_selective))\n",
    "    \n",
    "    config_list.append('ue.reg_type\\={}'.format(config['reg_type']))\n",
    "    \n",
    "    config_list.append('++ue.use_spectralnorm\\={}'.format(config['use_spectralnorm']))\n",
    "    config_list.append('data.subsample_perc_val\\={}'.format(config['validation_subsample']))\n",
    "    config_list.append('data.subsample_perc\\={}'.format(config['subsample_perc']))\n",
    "    config_list.append('training\\=electra_base')\n",
    "\n",
    "    config_list.append(\"model.model_name_or_path\\='{}'\".format(config['model_name_or_path']))\n",
    "    return config_list"
   ]
  },
  {
   "cell_type": "code",
   "execution_count": 13,
   "metadata": {},
   "outputs": [
    {
     "name": "stdout",
     "output_type": "stream",
     "text": [
      "n_tests: 73\n"
     ]
    }
   ],
   "source": [
    "train_configs = {\n",
    "    'script': ['run_conll2003.py'],\n",
    "    'validation_subsample': [0.01],\n",
    "    'subsample_perc': [0.01],\n",
    "    'task': ['conll2003'],\n",
    "\n",
    "    'ue': ['decomposing_md', 'nuq', 'mahalanobis', 'mc', 'mc-dpp', 'sngp'],\n",
    "    'reg_type': ['metric', 'reg-curr', 'raw'],\n",
    "    'use_spectralnorm': ['False', 'True'],\n",
    "    'model_name_or_path': ['microsoft/deberta-base', 'google/electra-base-discriminator', 'distilbert-base-cased']\n",
    "}\n",
    "    \n",
    "cuda_devices = '2'\n",
    "\n",
    "generate_bash(train_configs, cuda_devices, generate_str_config, 'ner_scripts/run_tests.sh')"
   ]
  },
  {
   "cell_type": "code",
   "execution_count": 14,
   "metadata": {},
   "outputs": [],
   "source": [
    "full_test = 'nohup bash miscl_scripts/run_tests.sh > miscl_scripts/test.out &\\n'\n",
    "full_test += 'nohup bash ner_scripts/run_tests.sh > ner_scripts/test.out &'\n",
    "\n",
    "with open (f'../../scripts/run_tests.sh', 'w') as rsh:\n",
    "    rsh.write(full_test)"
   ]
  },
  {
   "cell_type": "code",
   "execution_count": null,
   "metadata": {},
   "outputs": [],
   "source": []
  }
 ],
 "metadata": {
  "kernelspec": {
   "display_name": "Python 3 (ipykernel)",
   "language": "python",
   "name": "python3"
  },
  "language_info": {
   "codemirror_mode": {
    "name": "ipython",
    "version": 3
   },
   "file_extension": ".py",
   "mimetype": "text/x-python",
   "name": "python",
   "nbconvert_exporter": "python",
   "pygments_lexer": "ipython3",
   "version": "3.7.12"
  }
 },
 "nbformat": 4,
 "nbformat_minor": 4
}
