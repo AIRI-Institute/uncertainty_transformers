{
 "cells": [
  {
   "cell_type": "code",
   "execution_count": 2,
   "metadata": {},
   "outputs": [],
   "source": [
    "from pathlib import Path\n",
    "import numpy as np\n",
    "import os\n",
    "from tqdm import tqdm\n",
    "from sklearn.metrics import roc_auc_score\n",
    "import ujson as json\n",
    "import re\n",
    "\n",
    "from ue4nlp.ue_scores import *\n",
    "from ue4nlp.ue_variation_ratio import ue_variation_ratio\n",
    "\n",
    "from utils.plot_error_detection import * \n",
    "from utils.plot_error_detection import draw_charts\n",
    "from utils.plot_error_detection import create_chart_data\n",
    "\n",
    "import matplotlib.pyplot as plt\n",
    "from utils.plot_error_detection import plot_error_detection, plot_rejection_curve_aucs"
   ]
  },
  {
   "cell_type": "code",
   "execution_count": 3,
   "metadata": {},
   "outputs": [],
   "source": [
    "methods = {\n",
    "    \"bald\": bald,\n",
    "    \"var_ratio\": var_ratio,\n",
    "    \"entropy\": mean_entropy,\n",
    "    \"sampled_max_prob\": sampled_max_prob,\n",
    "    \"variance\": probability_variance,\n",
    "}"
   ]
  },
  {
   "cell_type": "code",
   "execution_count": 43,
   "metadata": {},
   "outputs": [],
   "source": [
    "res_path = '../workdir/results/maha/clinc_oos/mahalanobis/bert-base-uncased/32/16/101/17'\n",
    "\n",
    "with open(Path(res_path) / 'dev_inference.json') as f:\n",
    "        model_outputs = json.load(f)"
   ]
  },
  {
   "cell_type": "code",
   "execution_count": 44,
   "metadata": {},
   "outputs": [],
   "source": [
    "eval_labels = np.asarray(model_outputs['eval_labels'])\n",
    "distance = np.asarray(model_outputs['mahalanobis_distance'])"
   ]
  },
  {
   "cell_type": "code",
   "execution_count": 45,
   "metadata": {},
   "outputs": [],
   "source": [
    "label = (eval_labels != 42).astype('uint8')"
   ]
  },
  {
   "cell_type": "code",
   "execution_count": 46,
   "metadata": {},
   "outputs": [
    {
     "name": "stdout",
     "output_type": "stream",
     "text": [
      "Maha: 0.9578933333333333\n"
     ]
    },
    {
     "data": {
      "image/png": "[encoded data removed]",
      "text/plain": [
       "<Figure size 432x288 with 1 Axes>"
      ]
     },
     "metadata": {
      "needs_background": "light"
     },
     "output_type": "display_data"
    }
   ],
   "source": [
    "fpr, tpr, _ = roc_curve(label, -distance)\n",
    "plt.plot(fpr, tpr, label=\"Maha\")\n",
    "print(f\"Maha:\", roc_auc_score(label, -distance))"
   ]
  },
  {
   "cell_type": "code",
   "execution_count": null,
   "metadata": {},
   "outputs": [],
   "source": []
  },
  {
   "cell_type": "code",
   "execution_count": null,
   "metadata": {},
   "outputs": [],
   "source": []
  }
 ],
 "metadata": {
  "kernelspec": {
   "display_name": "Python 3",
   "language": "python",
   "name": "python3"
  },
  "language_info": {
   "codemirror_mode": {
    "name": "ipython",
    "version": 3
   },
   "file_extension": ".py",
   "mimetype": "text/x-python",
   "name": "python",
   "nbconvert_exporter": "python",
   "pygments_lexer": "ipython3",
   "version": "3.8.5"
  }
 },
 "nbformat": 4,
 "nbformat_minor": 4
}
