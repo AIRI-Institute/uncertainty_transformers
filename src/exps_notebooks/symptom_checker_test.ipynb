{
 "cells": [
  {
   "cell_type": "code",
   "execution_count": 1,
   "metadata": {},
   "outputs": [],
   "source": [
    "import warnings\n",
    "\n",
    "warnings.simplefilter(action=\"ignore\", category=FutureWarning)\n",
    "\n",
    "import os\n",
    "import sys\n",
    "import dataclasses\n",
    "from dataclasses import dataclass, field\n",
    "from typing import Callable, Dict, Optional\n",
    "from tqdm import tqdm\n",
    "import json\n",
    "import numpy as np\n",
    "from pathlib import Path\n",
    "import random\n",
    "import torch\n",
    "import pandas as pd\n",
    "import hydra\n",
    "import pickle\n",
    "import joblib\n",
    "import yaml\n",
    "\n",
    "from utils.utils_wandb import init_wandb, wandb\n",
    "\n",
    "from ue4nlp.transformers_cached import (\n",
    "    ElectraForSequenceClassificationCached,\n",
    "    BertForSequenceClassificationCached,\n",
    ")\n",
    "from ue4nlp.dropconnect_mc import (\n",
    "    LinearDropConnectMC,\n",
    "    activate_mc_dropconnect,\n",
    "    convert_to_mc_dropconnect,\n",
    "    hide_dropout,\n",
    ")\n",
    "from ue4nlp.dropout_mc import DropoutMC, activate_mc_dropout, convert_to_mc_dropout\n",
    "from ue4nlp.dropout_dpp import DropoutDPP, DropoutDPP_v2\n",
    "from ue4nlp.text_classifier import TextClassifier\n",
    "from ue4nlp.electra_duq_model import ElectraForSequenceClassificationDUQ\n",
    "from ue4nlp.bert_sngp_model import (\n",
    "    SNGPBertForSequenceClassificationCached, \n",
    "    SNGPElectraForSequenceClassificationCached,\n",
    ")\n",
    "from utils.utils_heads import ElectraClassificationHeadCustom\n",
    "\n",
    "from transformers import (\n",
    "    AutoConfig,\n",
    "    AutoModelForSequenceClassification,\n",
    "    AutoTokenizer,\n",
    "    EvalPrediction,\n",
    "    PretrainedConfig,\n",
    "    Trainer,\n",
    "    TrainingArguments,\n",
    "    set_seed,\n",
    "    ElectraForSequenceClassification,\n",
    ")\n",
    "from datasets import load_metric, load_dataset, Dataset\n",
    "\n",
    "from utils.utils_dropout import set_last_dropout, get_last_dropout, set_last_dropconnect\n",
    "import alpaca_calibrator as calibrator\n",
    "from ue4nlp.utils_sngp import SNGPTrainer\n",
    "import sbermed.experimental.ainesterov.symptom_checker.src.top3 as models\n",
    "\n",
    "import logging\n",
    "\n",
    "import os\n",
    "os.environ['CUDA_DEVICE_ORDER']='PCI_BUS_ID'\n",
    "os.environ['CUDA_VISIBLE_DEVICES']='3'\n",
    "\n",
    "\n",
    "log = logging.getLogger(__name__)\n",
    "\n",
    "\n",
    "task_to_keys = {\n",
    "    \"symptoms\": (\"body\", None)\n",
    "}"
   ]
  },
  {
   "cell_type": "code",
   "execution_count": 2,
   "metadata": {},
   "outputs": [],
   "source": [
    "#%env CUDA_VISIBLE_DEVICES=1"
   ]
  },
  {
   "cell_type": "code",
   "execution_count": 3,
   "metadata": {},
   "outputs": [],
   "source": [
    "base_df = pd.read_csv('/home/avazhentsev/data/tmp/data/diseasecases_for_msk_body.csv')\n",
    "base_df.body.fillna('', inplace=True)\n",
    "keep_mask = ~base_df.duplicated(subset=['body']).values\n",
    "df_test = base_df.iloc[keep_mask, :]\n",
    "\n",
    "train_dataset = None #Dataset.from_pandas(df_train)\n",
    "eval_dataset = Dataset.from_pandas(df_test.sample(frac=1))"
   ]
  },
  {
   "cell_type": "code",
   "execution_count": 4,
   "metadata": {},
   "outputs": [],
   "source": [
    "def update_config_symptom_checker(conf, device='cuda'):\n",
    "    for key in conf.keys():\n",
    "        if type(conf[key]) is dict:\n",
    "            for sub_key in conf[key]:\n",
    "                if 'path' in sub_key:\n",
    "                    conf[key][sub_key] = '/home/avazhentsev/data/tmp' + conf[key][sub_key][2:]\n",
    "        elif 'path' in key:\n",
    "            conf[key] = '/home/avazhentsev/data/tmp' + conf[key][2:]\n",
    "    conf['device'] = device\n",
    "    return conf"
   ]
  },
  {
   "cell_type": "code",
   "execution_count": 5,
   "metadata": {},
   "outputs": [],
   "source": [
    "label_to_id = joblib.load('/home/avazhentsev/data/tmp/data/top3/l2i_niar_megi.pkl')\n",
    "with open('/home/avazhentsev/data/sbermed/experimental/ainesterov/symptom_checker/src/test_config.yaml', 'r') as f:\n",
    "    conf = yaml.safe_load(f)\n",
    "\n",
    "conf = update_config_symptom_checker(conf)"
   ]
  },
  {
   "cell_type": "code",
   "execution_count": 6,
   "metadata": {},
   "outputs": [
    {
     "name": "stderr",
     "output_type": "stream",
     "text": [
      "You are using a model of type longformer to instantiate a model of type bert. This is not supported for all configurations of models and can yield errors.\n"
     ]
    }
   ],
   "source": [
    "estimator = models.Estimator(conf['top3'], conf['device'])\n",
    "model, tokenizer = estimator.evaluator, estimator.tokenizer"
   ]
  },
  {
   "cell_type": "code",
   "execution_count": 7,
   "metadata": {
    "scrolled": true
   },
   "outputs": [
    {
     "data": {
      "application/vnd.jupyter.widget-view+json": {
       "model_id": "bf73210e2b074907bcd76efbe1ce55b7",
       "version_major": 2,
       "version_minor": 0
      },
      "text/plain": [
       "HBox(children=(HTML(value=''), FloatProgress(value=0.0, max=1729.0), HTML(value='')))"
      ]
     },
     "metadata": {},
     "output_type": "display_data"
    },
    {
     "name": "stdout",
     "output_type": "stream",
     "text": [
      "\n"
     ]
    }
   ],
   "source": [
    "sentence1_key, sentence2_key = task_to_keys['symptoms']\n",
    "padding = \"max_length\"\n",
    "max_seq_length = estimator.max_seq_len\n",
    "\n",
    "def preprocess_function(examples):\n",
    "    # Tokenize the texts\n",
    "    args = (\n",
    "        (examples[sentence1_key],)\n",
    "        if sentence2_key is None\n",
    "        else (examples[sentence1_key], examples[sentence2_key])\n",
    "    )\n",
    "    result = {'input_ids': [],\n",
    "              'token_type_ids': [],\n",
    "              'attention_mask': []\n",
    "             }\n",
    "    \n",
    "    for text in examples[sentence1_key]:\n",
    "        encoded = estimator._encode(text)\n",
    "        result['input_ids'].append(encoded[0].numpy().tolist())\n",
    "        result['attention_mask'].append(encoded[1].numpy().tolist())\n",
    "        result['token_type_ids'].append([0]*max_seq_length) \n",
    "\n",
    "    label_column_name = 'original_mkb_code' if 'original_mkb_code' in examples.keys() else \"mkb_code\"\n",
    "    # Map labels to IDs (not necessary for GLUE tasks)\n",
    "    if label_to_id is not None and label_column_name in examples:\n",
    "        result[\"label\"] = [\n",
    "            (label_to_id[l] if l != -1 else -1) for l in examples[label_column_name]\n",
    "        ]\n",
    "    return result\n",
    "\n",
    "    \n",
    "eval_dataset = eval_dataset.map(\n",
    "    preprocess_function,\n",
    "    batched=True,\n",
    "    num_proc=1\n",
    ")\n",
    "eval_dataset.set_format(columns=['attention_mask', 'input_ids', 'token_type_ids', 'label'])"
   ]
  },
  {
   "cell_type": "code",
   "execution_count": 8,
   "metadata": {},
   "outputs": [],
   "source": [
    "metric = load_metric(\n",
    "        \"accuracy\", keep_in_memory=True,\n",
    "    )\n",
    "def compute_metrics(is_regression, metric, p: EvalPrediction):\n",
    "    preds = p.predictions[0] if isinstance(p.predictions, tuple) else p.predictions\n",
    "    preds = np.squeeze(preds) if is_regression else np.argmax(preds, axis=1)\n",
    "\n",
    "    result = metric.compute(predictions=preds, references=p.label_ids)\n",
    "    if len(result) > 1:\n",
    "        result[\"combined_score\"] = np.mean(list(result.values())).item()\n",
    "\n",
    "    return result\n",
    "\n",
    "is_regression = False\n",
    "metric_fn = lambda p: compute_metrics(is_regression, metric, p)\n",
    "    \n",
    "trainer = Trainer(\n",
    "    model=model,\n",
    "    train_dataset=train_dataset,\n",
    "    eval_dataset=eval_dataset,\n",
    "    compute_metrics=metric_fn\n",
    ")"
   ]
  },
  {
   "cell_type": "code",
   "execution_count": 9,
   "metadata": {},
   "outputs": [],
   "source": [
    "tagger = TextClassifier(\n",
    "        model, tokenizer, trainer=trainer\n",
    "    )"
   ]
  },
  {
   "cell_type": "code",
   "execution_count": 10,
   "metadata": {},
   "outputs": [
    {
     "data": {
      "text/html": [
       "\n",
       "    <div>\n",
       "      \n",
       "      <progress value='216067' max='216067' style='width:300px; height:20px; vertical-align: middle;'></progress>\n",
       "      [216067/216067 2:30:41]\n",
       "    </div>\n",
       "    "
      ],
      "text/plain": [
       "<IPython.core.display.HTML object>"
      ]
     },
     "metadata": {},
     "output_type": "display_data"
    }
   ],
   "source": [
    "preds, probs = tagger.predict(eval_dataset, calibrate=False)"
   ]
  },
  {
   "cell_type": "code",
   "execution_count": 11,
   "metadata": {
    "scrolled": true
   },
   "outputs": [
    {
     "name": "stderr",
     "output_type": "stream",
     "text": [
      "/home/avazhentsev/data/anaconda3/lib/python3.8/site-packages/sklearn/metrics/_classification.py:1221: UndefinedMetricWarning: Precision and F-score are ill-defined and being set to 0.0 in labels with no predicted samples. Use `zero_division` parameter to control this behavior.\n",
      "  _warn_prf(average, modifier, msg_start, len(result))\n"
     ]
    },
    {
     "name": "stdout",
     "output_type": "stream",
     "text": [
      "              precision    recall  f1-score   support\n",
      "\n",
      "           0       0.27      0.25      0.26      1178\n",
      "           1       0.58      0.41      0.48      9893\n",
      "           2       0.00      0.00      0.00       874\n",
      "           3       0.33      0.56      0.41      2857\n",
      "           4       0.03      0.07      0.04       736\n",
      "           5       0.60      0.42      0.49      1084\n",
      "           6       0.35      0.34      0.35      1265\n",
      "           7       0.00      0.00      0.00       933\n",
      "           8       0.39      0.29      0.33       269\n",
      "           9       0.58      0.30      0.40      1633\n",
      "          10       0.55      0.29      0.38       280\n",
      "          11       0.48      0.42      0.45      1385\n",
      "          12       0.58      0.40      0.47      4081\n",
      "          13       0.38      0.09      0.15      1189\n",
      "          14       0.34      0.27      0.30       909\n",
      "          15       0.00      0.00      0.00       543\n",
      "          16       0.00      0.00      0.00      2132\n",
      "          17       0.00      0.00      0.00       895\n",
      "          18       0.65      0.38      0.48       816\n",
      "          19       0.00      0.00      0.00       529\n",
      "          20       0.52      0.17      0.25      1780\n",
      "          21       0.15      0.07      0.10       683\n",
      "          22       0.00      0.00      0.00       109\n",
      "          23       0.43      0.26      0.33       624\n",
      "          24       0.39      0.48      0.43      2833\n",
      "          25       0.77      0.28      0.41      1390\n",
      "          26       0.13      0.16      0.14       624\n",
      "          27       0.29      0.40      0.34       382\n",
      "          28       0.54      0.51      0.53      3963\n",
      "          29       0.00      0.00      0.00      2093\n",
      "          30       0.24      0.11      0.15      3766\n",
      "          31       0.00      0.00      0.00      1016\n",
      "          32       0.26      0.49      0.34      6828\n",
      "          33       0.54      0.35      0.42      2497\n",
      "          34       0.19      0.06      0.09       487\n",
      "          35       0.00      0.00      0.00      4321\n",
      "          36       0.13      0.52      0.21      2237\n",
      "          37       0.35      0.50      0.41      7168\n",
      "          38       0.31      0.40      0.35      1084\n",
      "          39       0.37      0.04      0.08      6576\n",
      "          40       0.01      0.02      0.01       156\n",
      "          41       0.49      0.35      0.41      5183\n",
      "          42       0.44      0.56      0.49     28212\n",
      "          43       0.16      0.35      0.22       368\n",
      "          44       0.01      0.06      0.02       108\n",
      "          45       0.03      0.00      0.00      1028\n",
      "          46       0.15      0.26      0.19      8234\n",
      "          47       0.06      0.04      0.05       275\n",
      "          48       0.30      0.18      0.23      4979\n",
      "          49       0.39      0.02      0.03      1619\n",
      "          50       0.00      0.00      0.00       822\n",
      "          51       0.03      0.08      0.04      2028\n",
      "          52       0.15      0.10      0.12      1500\n",
      "          53       0.00      0.00      0.00       626\n",
      "          54       0.49      0.73      0.58      7383\n",
      "          55       0.14      0.44      0.22       751\n",
      "          56       0.24      0.47      0.32      7045\n",
      "          57       0.24      0.27      0.25       691\n",
      "          58       0.06      0.56      0.10       686\n",
      "          59       0.01      0.00      0.00       778\n",
      "          60       0.24      0.51      0.33       681\n",
      "          61       0.26      0.06      0.09       790\n",
      "          62       0.15      0.50      0.23      1649\n",
      "          63       0.16      0.28      0.20     20452\n",
      "          64       0.32      0.01      0.02      9898\n",
      "          65       0.18      0.03      0.04      6819\n",
      "          66       0.00      0.00      0.00      1827\n",
      "          67       0.44      0.56      0.49      1490\n",
      "          68       0.10      0.05      0.06       471\n",
      "          69       0.00      0.00      0.00       971\n",
      "          70       0.58      0.54      0.56      9285\n",
      "          71       0.18      0.10      0.13       533\n",
      "          72       0.00      0.00      0.00       821\n",
      "          73       0.19      0.54      0.28      3386\n",
      "          74       0.00      0.00      0.00       687\n",
      "          75       0.00      0.00      0.00      1541\n",
      "          76       0.33      0.00      0.01      6705\n",
      "          77       0.46      0.41      0.43      2714\n",
      "          78       0.32      0.37      0.34       569\n",
      "          79       0.61      0.31      0.41      9834\n",
      "          80       0.15      0.52      0.23      2283\n",
      "          81       0.61      0.44      0.51      7662\n",
      "          82       0.26      0.05      0.09      7235\n",
      "          83       0.38      0.23      0.29      2484\n",
      "          84       0.19      0.00      0.00      4026\n",
      "          85       0.46      0.61      0.53      4328\n",
      "          86       0.00      0.00      0.00       260\n",
      "          87       0.04      0.07      0.05       124\n",
      "          88       0.00      0.00      0.00      9970\n",
      "          89       0.33      0.72      0.45    109916\n",
      "          90       0.45      0.18      0.26     28078\n",
      "          91       0.09      0.20      0.12       969\n",
      "          92       0.12      0.14      0.13     10846\n",
      "          93       0.07      0.45      0.13       761\n",
      "          94       0.15      0.06      0.09       704\n",
      "          95       0.00      0.00      0.00       490\n",
      "          96       0.08      0.00      0.00      1227\n",
      "          97       0.13      0.47      0.20      3058\n",
      "          98       0.22      0.17      0.19      4149\n",
      "          99       0.00      0.00      0.00       306\n",
      "         100       0.24      0.08      0.12      2265\n",
      "         101       0.38      0.35      0.36     44233\n",
      "         102       0.04      0.11      0.06      1689\n",
      "         103       0.59      0.51      0.55      4604\n",
      "         104       0.36      0.25      0.30      1704\n",
      "         105       0.51      0.68      0.58      5752\n",
      "         106       0.74      0.61      0.67      1102\n",
      "         107       0.25      0.00      0.00      1674\n",
      "         108       0.06      0.44      0.10       346\n",
      "         109       0.00      0.00      0.00     29666\n",
      "         110       0.29      0.26      0.28      7066\n",
      "         111       0.08      0.02      0.03     35581\n",
      "         112       0.39      0.13      0.20     21634\n",
      "         113       0.12      0.16      0.14     18473\n",
      "         114       0.65      0.59      0.62    309293\n",
      "         115       0.31      0.47      0.37      9563\n",
      "         116       0.25      0.16      0.19     28152\n",
      "         117       0.21      0.59      0.31      7505\n",
      "         118       0.06      0.21      0.09      1739\n",
      "         119       0.13      0.24      0.17      2525\n",
      "         120       0.33      0.01      0.02       423\n",
      "         121       0.15      0.40      0.22      2275\n",
      "         122       0.13      0.29      0.18      9701\n",
      "         123       0.23      0.13      0.17      1088\n",
      "         124       0.00      0.00      0.00      1426\n",
      "         125       0.05      0.35      0.09      2861\n",
      "         126       0.00      0.00      0.00      2812\n",
      "         127       0.36      0.32      0.34      8644\n",
      "         128       0.50      0.75      0.60     23386\n",
      "         129       0.00      0.00      0.00      5727\n",
      "         130       0.63      0.15      0.25     94149\n",
      "         131       0.65      0.70      0.67    137638\n",
      "         132       0.15      0.52      0.23      1081\n",
      "         133       0.16      0.20      0.18      3201\n",
      "         134       0.32      0.20      0.24      2140\n",
      "         135       0.43      0.10      0.16      3084\n",
      "         136       0.26      0.54      0.35     28337\n",
      "         137       0.00      0.00      0.00      2179\n",
      "         138       0.03      0.05      0.03      1481\n",
      "         139       0.57      0.69      0.62      2700\n",
      "         140       0.60      0.66      0.63      2479\n",
      "         141       0.56      0.51      0.53      1611\n",
      "         142       0.51      0.32      0.39      1182\n",
      "         143       0.13      0.50      0.21       391\n",
      "         144       0.17      0.26      0.21      6419\n",
      "         145       0.19      0.17      0.18       336\n",
      "         146       0.10      0.13      0.11      3817\n",
      "         147       0.30      0.21      0.24      8891\n",
      "         148       0.52      0.30      0.39      1336\n",
      "         149       0.49      0.75      0.59      3484\n",
      "         150       0.34      0.50      0.41      1045\n",
      "         151       0.05      0.14      0.07       331\n",
      "         152       0.59      0.43      0.49      6907\n",
      "         153       0.47      0.43      0.45     15321\n",
      "         154       0.10      0.01      0.02      2027\n",
      "         155       0.04      0.02      0.03      2584\n",
      "         156       0.40      0.44      0.42      3917\n",
      "         157       0.19      0.07      0.10      1427\n",
      "         158       0.52      0.54      0.53      9153\n",
      "         159       0.35      0.03      0.06      2347\n",
      "         160       0.30      0.03      0.06      1787\n",
      "         161       0.26      0.01      0.01      3135\n",
      "         162       0.22      0.38      0.28      5119\n",
      "         163       0.24      0.03      0.06      4592\n",
      "         164       0.00      0.00      0.00      1038\n",
      "         165       0.21      0.09      0.12      4480\n",
      "         166       0.38      0.38      0.38      1074\n",
      "         167       0.28      0.57      0.38      4018\n",
      "         168       0.53      0.61      0.57      2601\n",
      "         169       0.00      0.00      0.00      1519\n",
      "         170       0.10      0.00      0.00       766\n",
      "         171       0.20      0.00      0.00       416\n",
      "         172       0.25      0.54      0.34      1458\n",
      "         173       0.08      0.01      0.02      1096\n",
      "         174       0.22      0.52      0.31       789\n",
      "         175       0.10      0.07      0.08      2339\n",
      "         176       0.29      0.18      0.22      4361\n",
      "         177       0.42      0.72      0.53      3239\n",
      "         178       0.40      0.76      0.53      9051\n",
      "         179       0.23      0.34      0.27      5996\n",
      "         180       0.39      0.17      0.24       710\n",
      "         181       0.45      0.39      0.42      2808\n",
      "         182       0.52      0.09      0.16      2393\n",
      "         183       0.41      0.01      0.02       708\n",
      "         184       0.00      0.00      0.00       756\n",
      "         185       0.12      0.08      0.10       335\n",
      "         186       0.25      0.46      0.32      1916\n",
      "         187       0.38      0.52      0.44     52394\n",
      "         188       0.00      0.00      0.00       880\n",
      "         189       0.00      0.00      0.00       363\n",
      "         190       0.14      0.03      0.05      3165\n",
      "         191       0.39      0.13      0.20      7731\n",
      "         192       0.05      0.01      0.01      5896\n",
      "         193       0.24      0.13      0.17     24317\n",
      "         194       0.20      0.17      0.18      1089\n",
      "         195       0.23      0.05      0.08      1948\n",
      "         196       0.40      0.17      0.23       879\n",
      "         197       0.46      0.39      0.43      1248\n",
      "         198       0.17      0.02      0.04       377\n",
      "         199       0.18      0.28      0.22      1108\n",
      "         200       0.61      0.58      0.59      2821\n",
      "         201       0.13      0.13      0.13      1755\n",
      "         202       0.12      0.26      0.16       295\n",
      "         203       0.00      0.00      0.00       319\n",
      "         204       0.03      0.01      0.02       564\n",
      "         205       0.00      0.00      0.00      1611\n",
      "         206       0.34      0.38      0.36      7174\n",
      "         207       0.31      0.11      0.16       465\n",
      "         208       0.49      0.26      0.34      4214\n",
      "         209       0.42      0.64      0.51      4898\n",
      "         210       0.42      0.09      0.15      1618\n",
      "         211       0.31      0.67      0.42      7716\n",
      "         212       0.39      0.32      0.35       845\n",
      "         213       0.13      0.01      0.01      3177\n",
      "         214       0.00      0.00      0.00      4435\n",
      "         215       0.21      0.52      0.30      1782\n",
      "         216       0.60      0.59      0.59       877\n",
      "         217       0.00      0.00      0.00       854\n",
      "         218       0.44      0.55      0.49       847\n",
      "         219       0.43      0.61      0.50     10604\n",
      "         220       0.00      0.00      0.00       344\n",
      "         221       0.02      0.00      0.01       488\n",
      "         222       0.31      0.23      0.26      1725\n",
      "         223       0.00      0.00      0.00      1044\n",
      "         224       0.00      0.00      0.00       322\n",
      "         225       0.56      0.06      0.11     11136\n",
      "         226       0.00      0.00      0.00       428\n",
      "         227       0.27      0.18      0.22      1204\n",
      "         228       0.26      0.22      0.24      2159\n",
      "         229       0.21      0.37      0.27      1500\n",
      "         230       0.00      0.00      0.00      1547\n",
      "         231       0.00      0.00      0.00      2606\n",
      "         232       0.48      0.02      0.03       875\n",
      "         233       0.00      0.00      0.00       363\n",
      "         234       0.00      0.00      0.00       692\n",
      "         235       0.00      0.00      0.00       481\n",
      "         236       0.00      0.00      0.00       459\n",
      "         237       0.20      0.38      0.26      2655\n",
      "         238       0.07      0.18      0.10       857\n",
      "         239       0.40      0.02      0.05      6020\n",
      "         240       0.15      0.47      0.23      1031\n",
      "         241       0.00      0.00      0.00       341\n",
      "         242       0.00      0.00      0.00       251\n",
      "         243       0.28      0.00      0.01      4297\n",
      "         244       0.00      0.00      0.00       394\n",
      "         245       0.08      0.01      0.02       296\n",
      "         246       0.00      0.00      0.00       218\n",
      "         247       0.30      0.30      0.30      4292\n",
      "         248       0.68      0.44      0.53      6859\n",
      "         249       0.56      0.37      0.45      6082\n",
      "         250       0.31      0.74      0.43      4124\n",
      "         251       0.30      0.09      0.13      2417\n",
      "         252       0.69      0.45      0.55      2821\n",
      "         253       0.69      0.37      0.48      6173\n",
      "         254       0.39      0.33      0.35      4510\n",
      "         255       0.52      0.70      0.60      6936\n",
      "         256       0.55      0.30      0.39      4499\n",
      "         257       0.33      0.23      0.27      3328\n",
      "         258       0.71      0.38      0.49      2527\n",
      "         259       0.48      0.39      0.43      4745\n",
      "         260       0.45      0.15      0.23      2388\n",
      "         261       0.34      0.50      0.41      4966\n",
      "         262       0.75      0.22      0.34      4152\n",
      "         263       0.59      0.20      0.30      5072\n",
      "         264       0.20      0.25      0.22      1822\n",
      "\n",
      "    accuracy                           0.40   1728529\n",
      "   macro avg       0.26      0.24      0.21   1728529\n",
      "weighted avg       0.42      0.40      0.38   1728529\n",
      "\n"
     ]
    }
   ],
   "source": [
    "from sklearn.metrics import classification_report\n",
    "\n",
    "print(classification_report(eval_dataset[\"label\"], preds))"
   ]
  },
  {
   "cell_type": "code",
   "execution_count": 12,
   "metadata": {},
   "outputs": [
    {
     "name": "stderr",
     "output_type": "stream",
     "text": [
      "1728529it [00:31, 55207.19it/s]"
     ]
    },
    {
     "name": "stdout",
     "output_type": "stream",
     "text": [
      "0.6184883215728518\n"
     ]
    },
    {
     "name": "stderr",
     "output_type": "stream",
     "text": [
      "\n"
     ]
    }
   ],
   "source": [
    "true_pred = 0\n",
    "for example, label in tqdm(zip(probs, eval_dataset[\"label\"])):\n",
    "    top3 = np.argsort(example)[-3:]\n",
    "    if label in top3:\n",
    "        true_pred+=1\n",
    "print(1.*true_pred/probs.shape[0])"
   ]
  },
  {
   "cell_type": "code",
   "execution_count": 2,
   "metadata": {},
   "outputs": [],
   "source": [
    "from pathlib import Path\n",
    "import numpy as np\n",
    "import os\n",
    "from tqdm import tqdm\n",
    "from sklearn.metrics import roc_auc_score\n",
    "import json\n",
    "import orjson as json\n",
    "import re\n",
    "\n",
    "from ue4nlp.ue_scores import *\n",
    "from ue4nlp.ue_variation_ratio import ue_variation_ratio\n",
    "\n",
    "from utils.plot_error_detection import draw_charts\n",
    "from utils.plot_error_detection import create_chart_data\n",
    "\n",
    "import matplotlib.pyplot as plt\n",
    "from utils.plot_error_detection import plot_error_detection, plot_rejection_curve_aucs\n",
    "\n",
    "\n",
    "def plot_roc_auc(res_path):\n",
    "    with open(Path(res_path) / 'dev_inference.json') as f:\n",
    "        model_outputs = json.loads(f.read())\n",
    "    \n",
    "    plot_error_detection(np.asarray(model_outputs['probabilities']), \n",
    "                         np.asarray(model_outputs['true_labels']), \n",
    "                         np.asarray(model_outputs['sampled_probabilities']).transpose(1, 0, 2))\n",
    "    \n",
    "def plot_rejection_curves(res_path):\n",
    "    with open(Path(res_path) / 'dev_inference.json') as f:\n",
    "        model_outputs = json.loads(f.read())\n",
    "    \n",
    "    plot_rejection_curve_aucs(np.asarray(model_outputs['probabilities']), \n",
    "                              np.asarray(model_outputs['true_labels']), \n",
    "                              np.asarray(model_outputs['sampled_probabilities']).transpose(1, 0, 2),\n",
    "                              np.asarray(model_outputs['answers']), )"
   ]
  },
  {
   "cell_type": "code",
   "execution_count": 18,
   "metadata": {},
   "outputs": [
    {
     "name": "stderr",
     "output_type": "stream",
     "text": [
      "\r",
      "  0%|          | 0/5 [00:00<?, ?it/s]"
     ]
    },
    {
     "name": "stdout",
     "output_type": "stream",
     "text": [
      "(10, 18427, 265)\n"
     ]
    },
    {
     "name": "stderr",
     "output_type": "stream",
     "text": [
      "\r",
      " 20%|██        | 1/5 [00:11<00:45, 11.37s/it]"
     ]
    },
    {
     "name": "stdout",
     "output_type": "stream",
     "text": [
      "[1 1 1 1 1 1 0 0 1 1]\n",
      "[[7.06961437e-04 9.45837994e-04]\n",
      " [1.15849201e-04 2.39721976e-05]]\n",
      "0.7336562546668878\n",
      "(10, 18427, 265)\n",
      "[1 1 1 1 1 1 1 0 1 1]\n",
      "[[0.00080715 0.00042487]\n",
      " [0.00019452 0.00010121]]\n"
     ]
    },
    {
     "name": "stderr",
     "output_type": "stream",
     "text": [
      "\r",
      " 40%|████      | 2/5 [00:29<00:40, 13.54s/it]"
     ]
    },
    {
     "name": "stdout",
     "output_type": "stream",
     "text": [
      "0.7412976140621546\n",
      "(10, 18427, 265)\n"
     ]
    },
    {
     "name": "stderr",
     "output_type": "stream",
     "text": [
      "\r",
      " 60%|██████    | 3/5 [00:41<00:25, 12.89s/it]"
     ]
    },
    {
     "name": "stdout",
     "output_type": "stream",
     "text": [
      "[1 1 1 0 1 1 1 0 1 1]\n",
      "[[1.09329179e-03 8.07381992e-04]\n",
      " [7.03759142e-05 3.92955517e-05]]\n",
      "0.7348187410596689\n",
      "(10, 18427, 265)\n"
     ]
    },
    {
     "name": "stderr",
     "output_type": "stream",
     "text": [
      "\r",
      " 80%|████████  | 4/5 [00:52<00:12, 12.48s/it]"
     ]
    },
    {
     "name": "stdout",
     "output_type": "stream",
     "text": [
      "[1 1 1 0 1 1 1 0 1 1]\n",
      "[[1.16785965e-03 6.75274234e-04]\n",
      " [7.63241187e-05 5.36365405e-05]]\n",
      "0.7435106060813003\n",
      "(10, 18427, 265)\n"
     ]
    },
    {
     "name": "stderr",
     "output_type": "stream",
     "text": [
      "100%|██████████| 5/5 [01:04<00:00, 12.82s/it]"
     ]
    },
    {
     "name": "stdout",
     "output_type": "stream",
     "text": [
      "[1 1 1 1 1 1 0 0 1 1]\n",
      "[[1.38389552e-03 7.42173230e-04]\n",
      " [1.88188889e-04 7.73481734e-05]]\n",
      "0.733680334925656\n"
     ]
    },
    {
     "name": "stderr",
     "output_type": "stream",
     "text": [
      "\n"
     ]
    }
   ],
   "source": [
    "import tqdm\n",
    "\n",
    "run_dir = '../../sbermed_ue/uncertainty-estimation/workdir/results/mc_symptoms_train_63/symptoms/MC/last/10/101'\n",
    "sampled_probabilities = []\n",
    "for seed in tqdm.tqdm(['17', '42', '51', '91', '101']):\n",
    "    with open(Path(f'{run_dir}/{seed}') / \"dev_inference.json\") as f:\n",
    "        model_outputs = json.loads(f.read())\n",
    "    print(np.asarray(model_outputs['sampled_probabilities']).shape)\n",
    "    sampled_probabilities.append(np.asarray(model_outputs[\"probabilities\"]).copy())\n",
    "    \n",
    "    probabilities = np.asarray(model_outputs['probabilities'])\n",
    "    labels = np.asarray(model_outputs['true_labels'])\n",
    "    \n",
    "    predictions = np.argmax(probabilities, axis=-1)\n",
    "    errors = (labels != predictions).astype(\"uint8\")\n",
    "    print(errors[:10])\n",
    "    print(probabilities[:2, :2])\n",
    "    max_prob = 1.0 - np.max(probabilities, axis=-1)\n",
    "    print(roc_auc_score(errors, max_prob))"
   ]
  },
  {
   "cell_type": "code",
   "execution_count": 19,
   "metadata": {},
   "outputs": [],
   "source": [
    "probabilities = np.asarray(model_outputs['probabilities'])\n",
    "labels = np.asarray(model_outputs['true_labels'])\n",
    "sampled_probabilities = np.asarray(sampled_probabilities).transpose(1, 0, 2)"
   ]
  },
  {
   "cell_type": "code",
   "execution_count": 20,
   "metadata": {},
   "outputs": [],
   "source": [
    "methods = {\n",
    "        \"bald\": bald,\n",
    "        \"var_ratio\": var_ratio,\n",
    "        \"entropy\": mean_entropy,\n",
    "        \"sampled_max_prob\": sampled_max_prob,\n",
    "        \"variance\": probability_variance,\n",
    "}"
   ]
  },
  {
   "cell_type": "code",
   "execution_count": 21,
   "metadata": {},
   "outputs": [
    {
     "data": {
      "text/plain": [
       "(18427, 5, 265)"
      ]
     },
     "execution_count": 21,
     "metadata": {},
     "output_type": "execute_result"
    }
   ],
   "source": [
    "sampled_probabilities.shape"
   ]
  },
  {
   "cell_type": "code",
   "execution_count": 22,
   "metadata": {},
   "outputs": [
    {
     "data": {
      "text/plain": [
       "{'bald': 0.6866625372420074,\n",
       " 'var_ratio': 0.6811103883159744,\n",
       " 'entropy': 0.7395306188676475,\n",
       " 'sampled_max_prob': 0.7508176330340166,\n",
       " 'variance': 0.6468919133942168,\n",
       " 'max_prob': 0.733680334925656}"
      ]
     },
     "execution_count": 22,
     "metadata": {},
     "output_type": "execute_result"
    }
   ],
   "source": [
    "predictions = np.argmax(probabilities, axis=-1)\n",
    "errors = (labels != predictions).astype(\"uint8\")\n",
    "\n",
    "results = {}\n",
    "for name, method_function in methods.items():\n",
    "    ue_scores = method_function(sampled_probabilities)\n",
    "    results[name] = roc_auc_score(errors, ue_scores)\n",
    "\n",
    "max_prob = 1.0 - np.max(probabilities, axis=-1)\n",
    "results[\"max_prob\"] = roc_auc_score(errors, max_prob)\n",
    "results"
   ]
  },
  {
   "cell_type": "code",
   "execution_count": 23,
   "metadata": {},
   "outputs": [
    {
     "name": "stdout",
     "output_type": "stream",
     "text": [
      "bald: 0.6866625372420074\n",
      "var_ratio: 0.6811103883159744\n",
      "entropy: 0.7395306188676475\n",
      "sampled_max_prob: 0.7508176330340166\n",
      "variance: 0.6468919133942168\n",
      "max_prob: 0.733680334925656\n"
     ]
    },
    {
     "data": {
      "text/plain": [
       "array([0.68666254, 0.68111039, 0.73953062, 0.75081763, 0.64689191,\n",
       "       0.73368033])"
      ]
     },
     "execution_count": 23,
     "metadata": {},
     "output_type": "execute_result"
    },
    {
     "data": {
      "image/png": "[encoded data removed]",
      "text/plain": [
       "<Figure size 900x600 with 1 Axes>"
      ]
     },
     "metadata": {
      "needs_background": "light"
     },
     "output_type": "display_data"
    }
   ],
   "source": [
    "plot_error_detection(probabilities, \n",
    "                     labels, \n",
    "                     sampled_probabilities)"
   ]
  },
  {
   "cell_type": "code",
   "execution_count": null,
   "metadata": {},
   "outputs": [],
   "source": []
  },
  {
   "cell_type": "code",
   "execution_count": null,
   "metadata": {},
   "outputs": [],
   "source": []
  }
 ],
 "metadata": {
  "kernelspec": {
   "display_name": "Python 3",
   "language": "python",
   "name": "python3"
  },
  "language_info": {
   "codemirror_mode": {
    "name": "ipython",
    "version": 3
   },
   "file_extension": ".py",
   "mimetype": "text/x-python",
   "name": "python",
   "nbconvert_exporter": "python",
   "pygments_lexer": "ipython3",
   "version": "3.8.5"
  }
 },
 "nbformat": 4,
 "nbformat_minor": 4
}
