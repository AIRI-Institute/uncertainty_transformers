{
 "cells": [
  {
   "cell_type": "code",
   "execution_count": 1,
   "metadata": {},
   "outputs": [],
   "source": [
    "%load_ext autoreload\n",
    "%autoreload 2"
   ]
  },
  {
   "cell_type": "code",
   "execution_count": 2,
   "metadata": {},
   "outputs": [],
   "source": [
    "from pathlib import Path\n",
    "import numpy as np\n",
    "import os\n",
    "from tqdm import tqdm\n",
    "from sklearn.metrics import roc_auc_score\n",
    "#import json\n",
    "import pandas as pd\n",
    "import orjson as json\n",
    "import re\n",
    "\n",
    "from ue4nlp.ue_scores import *\n",
    "from ue4nlp.ue_variation_ratio import ue_variation_ratio\n",
    "\n",
    "from utils.plot_error_detection import draw_charts\n",
    "from utils.plot_error_detection import create_chart_data\n",
    "\n",
    "import matplotlib.pyplot as plt\n",
    "from utils.plot_error_detection import plot_error_detection, plot_rejection_curve_aucs\n",
    "\n",
    "\n",
    "def plot_roc_auc(res_path):\n",
    "    with open(Path(res_path) / 'dev_inference.json') as f:\n",
    "        model_outputs = json.loads(f.read())\n",
    "    \n",
    "    \n",
    "    plot_error_detection(np.asarray(model_outputs['probabilities']), \n",
    "                         np.asarray(model_outputs['true_labels']), \n",
    "                         np.asarray(model_outputs['sampled_probabilities']).transpose(1, 0, 2))\n",
    "    \n",
    "def plot_rejection_curves(res_path):\n",
    "    with open(Path(res_path) / 'dev_inference.json') as f:\n",
    "        model_outputs = json.loads(f.read())\n",
    "    \n",
    "    plot_rejection_curve_aucs(np.asarray(model_outputs['probabilities']), \n",
    "                              np.asarray(model_outputs['true_labels']), \n",
    "                              np.asarray(model_outputs['sampled_probabilities']).transpose(1, 0, 2),\n",
    "                              np.asarray(model_outputs['answers']), )"
   ]
  },
  {
   "cell_type": "code",
   "execution_count": 3,
   "metadata": {},
   "outputs": [],
   "source": [
    "def calc_uncertainty_regection_curve(errors, uncertainty, group_by_uncertainty=True):\n",
    "    n_objects = errors.shape[0]\n",
    "    if group_by_uncertainty:\n",
    "        data = pd.DataFrame(dict(\n",
    "            errors=errors,\n",
    "            uncertainty=uncertainty\n",
    "        ))\n",
    "        mean_errors = data.groupby(\"uncertainty\").mean()\n",
    "        mean_errors.rename(columns={\"errors\": \"mean_errors\"}, inplace=True)\n",
    "        data = data.join(mean_errors, \"uncertainty\")\n",
    "        data.drop(\"errors\", axis=1, inplace=True)\n",
    "\n",
    "        uncertainty_order = data[\"uncertainty\"].argsort()\n",
    "        errors = data[\"mean_errors\"][uncertainty_order]\n",
    "    else:\n",
    "        uncertainty_order = uncertainty.argsort()\n",
    "        errors = errors[uncertainty_order]\n",
    "\n",
    "    error_rates = np.zeros(n_objects + 1)\n",
    "    error_rates[:-1] = np.cumsum(errors)[::-1]# / n_objects\n",
    "    return error_rates\n",
    "\n",
    "def calc_aucs(errors, uncertainty):\n",
    "    uncertainty_rejection_curve = calc_uncertainty_regection_curve(errors, uncertainty)\n",
    "    uncertainty_rejection_auc = uncertainty_rejection_curve.mean()\n",
    "    random_rejection_auc = uncertainty_rejection_curve[0] / 2\n",
    "    ideal_rejection_auc = calc_uncertainty_regection_curve(errors, errors).mean()\n",
    "\n",
    "    rejection_ratio = (uncertainty_rejection_auc - random_rejection_auc) / (\n",
    "            ideal_rejection_auc - random_rejection_auc) * 100.0\n",
    "    return rejection_ratio, uncertainty_rejection_auc"
   ]
  },
  {
   "cell_type": "code",
   "execution_count": 4,
   "metadata": {},
   "outputs": [],
   "source": [
    "res_path = '../workdir/run_glue_for_model_series/electra_raw_sn/20newsgroups/0.0/nuq/results/42'"
   ]
  },
  {
   "cell_type": "code",
   "execution_count": 5,
   "metadata": {},
   "outputs": [],
   "source": [
    "with open(Path(res_path) / 'dev_inference.json') as f:\n",
    "    model_outputs = json.loads(f.read())"
   ]
  },
  {
   "cell_type": "code",
   "execution_count": 32,
   "metadata": {},
   "outputs": [],
   "source": [
    "unc = np.asarray(model_outputs['epistemic'])\n",
    "\n",
    "probs = np.asarray(model_outputs['probabilities'])\n",
    "labels = np.asarray(model_outputs['true_labels'])\n",
    "\n",
    "predictions = np.argmax(probs, axis=-1)\n",
    "errors = (labels != predictions).astype(\"uint64\")#.astype(\"uint8\")"
   ]
  },
  {
   "cell_type": "code",
   "execution_count": 33,
   "metadata": {},
   "outputs": [
    {
     "data": {
      "text/plain": [
       "(67.64706822814665, 0.033721513815050216)"
      ]
     },
     "execution_count": 33,
     "metadata": {},
     "output_type": "execute_result"
    }
   ],
   "source": [
    "calc_aucs(errors, unc)"
   ]
  },
  {
   "cell_type": "code",
   "execution_count": 34,
   "metadata": {},
   "outputs": [
    {
     "data": {
      "text/plain": [
       "[<matplotlib.lines.Line2D at 0x7f0792e84bd0>]"
      ]
     },
     "execution_count": 34,
     "metadata": {},
     "output_type": "execute_result"
    },
    {
     "data": {
      "image/png": "[encoded data removed]",
      "text/plain": [
       "<Figure size 432x288 with 1 Axes>"
      ]
     },
     "metadata": {
      "needs_background": "light"
     },
     "output_type": "display_data"
    }
   ],
   "source": [
    "plt.plot(calc_uncertainty_regection_curve(errors, unc))"
   ]
  },
  {
   "cell_type": "code",
   "execution_count": 37,
   "metadata": {},
   "outputs": [],
   "source": [
    "from analyze_results import *\n",
    "\n",
    "res, x, y = rcc_auc(-unc, errors, return_points=True)"
   ]
  },
  {
   "cell_type": "code",
   "execution_count": 38,
   "metadata": {},
   "outputs": [
    {
     "data": {
      "text/plain": [
       "352.6944805428053"
      ]
     },
     "execution_count": 38,
     "metadata": {},
     "output_type": "execute_result"
    }
   ],
   "source": [
    "res"
   ]
  },
  {
   "cell_type": "code",
   "execution_count": 39,
   "metadata": {},
   "outputs": [
    {
     "data": {
      "text/plain": [
       "[<matplotlib.lines.Line2D at 0x7f0792f012d0>]"
      ]
     },
     "execution_count": 39,
     "metadata": {},
     "output_type": "execute_result"
    },
    {
     "data": {
      "image/png": "[encoded data removed]",
      "text/plain": [
       "<Figure size 432x288 with 1 Axes>"
      ]
     },
     "metadata": {
      "needs_background": "light"
     },
     "output_type": "display_data"
    }
   ],
   "source": [
    "plt.plot(x, np.cumsum(y)[::-1]/len(y))"
   ]
  },
  {
   "cell_type": "code",
   "execution_count": 40,
   "metadata": {},
   "outputs": [],
   "source": [
    "import pandas as pd\n",
    "import numpy as np\n",
    "\n",
    "from sklearn.metrics import *\n",
    "from sklearn.utils.multiclass import type_of_target\n",
    "from sklearn.utils import check_consistent_length, column_or_1d, assert_all_finite\n",
    "from sklearn.utils.extmath import stable_cumsum\n",
    "\n",
    "\n",
    "def calc_uncertainty_regection_curve(errors, uncertainty, group_by_uncertainty=True):\n",
    "    n_objects = errors.shape[0]\n",
    "    if group_by_uncertainty:\n",
    "        data = pd.DataFrame(dict(\n",
    "            errors=errors,\n",
    "            uncertainty=uncertainty\n",
    "        ))\n",
    "        mean_errors = data.groupby(\"uncertainty\").mean()\n",
    "        mean_errors.rename(columns={\"errors\": \"mean_errors\"}, inplace=True)\n",
    "        data = data.join(mean_errors, \"uncertainty\")\n",
    "        data.drop(\"errors\", axis=1, inplace=True)\n",
    "\n",
    "        uncertainty_order = data[\"uncertainty\"].argsort()\n",
    "        errors = data[\"mean_errors\"][uncertainty_order]\n",
    "    else:\n",
    "        uncertainty_order = uncertainty.argsort()\n",
    "        errors = errors[uncertainty_order]\n",
    "\n",
    "    error_rates = np.zeros(n_objects + 1)\n",
    "    error_rates[:-1] = np.cumsum(errors)[::-1] / n_objects\n",
    "    return error_rates\n",
    "\n",
    "\n",
    "assert np.allclose(\n",
    "    calc_uncertainty_regection_curve(np.array([2, 1]), np.array([1, 0])).mean(),\n",
    "    2 / 3\n",
    ")\n",
    "assert np.allclose(\n",
    "    calc_uncertainty_regection_curve(np.arange(5), np.array([0, 0, 2, 1, 1])).mean(),\n",
    "    0.8\n",
    ")\n",
    "debug_errors = np.random.rand(10)\n",
    "assert np.allclose(\n",
    "    calc_uncertainty_regection_curve(debug_errors, np.zeros_like(debug_errors)).mean(),\n",
    "    debug_errors.mean() / 2\n",
    ")\n",
    "\n",
    "\n",
    "def calc_aucs(errors, uncertainty):\n",
    "    uncertainty_rejection_curve = calc_uncertainty_regection_curve(errors, uncertainty)\n",
    "    uncertainty_rejection_auc = uncertainty_rejection_curve.mean()\n",
    "    random_rejection_auc = uncertainty_rejection_curve[0] / 2\n",
    "    ideal_rejection_auc = calc_uncertainty_regection_curve(errors, errors).mean()\n",
    "\n",
    "    rejection_ratio = (uncertainty_rejection_auc - random_rejection_auc) / (\n",
    "            ideal_rejection_auc - random_rejection_auc) * 100.0\n",
    "    return rejection_ratio, uncertainty_rejection_auc\n",
    "\n",
    "\n",
    "def prr_classification(labels, probs, measure, rev: bool):\n",
    "    if rev:\n",
    "        measure = -measure\n",
    "    preds = np.argmax(probs, axis=1)\n",
    "    errors = (labels != preds).astype(\"float32\")\n",
    "    return calc_aucs(errors, measure)\n",
    "\n",
    "\n",
    "def prr_regression(targets, preds, measure):\n",
    "    preds = np.squeeze(preds)\n",
    "    # Compute MSE errors\n",
    "    errors = (preds - targets) ** 2\n",
    "    return calc_aucs(errors, measure)\n",
    "\n",
    "\n",
    "def ood_detect(domain_labels, in_measure, out_measure, mode='ROC', pos_label=1):\n",
    "    scores = np.concatenate((in_measure, out_measure), axis=0)\n",
    "    scores = np.asarray(scores, dtype=np.float128)\n",
    "    if pos_label != 1:\n",
    "        scores *= -1.0\n",
    "\n",
    "    if mode == 'PR':\n",
    "        precision, recall, thresholds = precision_recall_curve(domain_labels, scores)\n",
    "        aupr = auc(recall, precision)\n",
    "        return aupr\n",
    "\n",
    "    elif mode == 'ROC':\n",
    "        roc_auc = roc_auc_score(domain_labels, scores)\n",
    "        return roc_auc\n",
    "\n",
    "\n",
    "def nll_regression(target, mu, var, epsilon=1e-8, raw=False):\n",
    "    nll = (target - mu) ** 2 / (2.0 * var + epsilon) + np.log(var + epsilon) / 2.0 + np.log(2 * np.pi) / 2.0\n",
    "    if raw:\n",
    "        return nll\n",
    "    return np.mean(nll)\n",
    "\n",
    "\n",
    "def nll_class(target, probs, epsilon=1e-10):\n",
    "    log_p = -np.log(probs + epsilon)\n",
    "    return target * log_p[:, 1] + (1 - target) * log_p[:, 0]\n",
    "\n",
    "\n",
    "def ens_nll_regression(target, preds, epsilon=1e-8, raw=False):\n",
    "    mu = preds[:, :, 0]\n",
    "    var = preds[:, :, 1]\n",
    "    nll = (target - mu) ** 2 / (2.0 * var + epsilon) + np.log(var + epsilon) / 2.0 + np.log(2 * np.pi) / 2.0\n",
    "    proba = np.exp(-1 * nll)\n",
    "    if raw:\n",
    "        return -1 * np.log(np.mean(proba, axis=0))\n",
    "    return np.mean(-1 * np.log(np.mean(proba, axis=0)))\n",
    "\n",
    "\n",
    "def calc_rmse(preds, target, raw=False):\n",
    "    if raw:\n",
    "        return (preds - target) ** 2\n",
    "    return np.sqrt(np.mean((preds - target) ** 2))\n",
    "\n",
    "\n",
    "def ens_rmse(target, preds, epsilon=1e-8, raw=False):\n",
    "    means = preds[:, :, 0]  # mean values predicted by all models\n",
    "    avg_mean = np.mean(means, axis=0)  # average predicted mean value\n",
    "    if raw:\n",
    "        return calc_rmse(avg_mean, target, raw=True)\n",
    "    return calc_rmse(avg_mean, target)\n",
    "\n",
    "\n",
    "def _check_pos_label_consistency(pos_label, y_true):\n",
    "    # ensure binary classification if pos_label is not specified\n",
    "    # classes.dtype.kind in ('O', 'U', 'S') is required to avoid\n",
    "    # triggering a FutureWarning by calling np.array_equal(a, b)\n",
    "    # when elements in the two arrays are not comparable.\n",
    "    classes = np.unique(y_true)\n",
    "    if (pos_label is None and (\n",
    "            classes.dtype.kind in 'OUS' or\n",
    "            not (np.array_equal(classes, [0, 1]) or\n",
    "                 np.array_equal(classes, [-1, 1]) or\n",
    "                 np.array_equal(classes, [0]) or\n",
    "                 np.array_equal(classes, [-1]) or\n",
    "                 np.array_equal(classes, [1])))):\n",
    "        classes_repr = \", \".join(repr(c) for c in classes)\n",
    "        raise ValueError(\n",
    "            f\"y_true takes value in {{{classes_repr}}} and pos_label is not \"\n",
    "            f\"specified: either make y_true take value in {{0, 1}} or \"\n",
    "            f\"{{-1, 1}} or pass pos_label explicitly.\"\n",
    "        )\n",
    "    elif pos_label is None:\n",
    "        pos_label = 1.0\n",
    "\n",
    "    return pos_label\n",
    "\n",
    "\n",
    "def _binary_clf_curve_ret(y_true, y_score, pos_label=None, sample_weight=None):\n",
    "    # Check to make sure y_true is valid\n",
    "    y_type = type_of_target(y_true)\n",
    "    if not (y_type == \"binary\" or\n",
    "            (y_type == \"multiclass\" and pos_label is not None)):\n",
    "        raise ValueError(\"{0} format is not supported\".format(y_type))\n",
    "\n",
    "    check_consistent_length(y_true, y_score, sample_weight)\n",
    "    y_true = column_or_1d(y_true)\n",
    "    y_score = column_or_1d(y_score)\n",
    "    assert_all_finite(y_true)\n",
    "    assert_all_finite(y_score)\n",
    "\n",
    "    if sample_weight is not None:\n",
    "        sample_weight = column_or_1d(sample_weight)\n",
    "\n",
    "    pos_label = _check_pos_label_consistency(pos_label, y_true)\n",
    "\n",
    "    # make y_true a boolean vector\n",
    "    y_true = (y_true == pos_label)\n",
    "\n",
    "    # sort scores and corresponding truth values\n",
    "    desc_score_indices = np.argsort(y_score, kind=\"mergesort\")[::-1]\n",
    "    y_score = y_score[desc_score_indices]\n",
    "    y_true = y_true[desc_score_indices]\n",
    "    if sample_weight is not None:\n",
    "        weight = sample_weight[desc_score_indices]\n",
    "    else:\n",
    "        weight = 1.\n",
    "\n",
    "    # y_score typically has many tied values. Here we extract\n",
    "    # the indices associated with the distinct values. We also\n",
    "    # concatenate a value for the end of the curve.\n",
    "    # distinct_value_indices = np.where(np.diff(y_score))[0]\n",
    "    # threshold_idxs = np.r_[distinct_value_indices, y_true.size - 1]\n",
    "\n",
    "    # accumulate the true positives with decreasing threshold\n",
    "    tps = stable_cumsum(y_true * weight)  # [threshold_idxs]\n",
    "    if sample_weight is not None:\n",
    "        # express fps as a cumsum to ensure fps is increasing even in\n",
    "        # the presence of floating point errors\n",
    "        fps = stable_cumsum((1 - y_true) * weight)  # [threshold_idxs]\n",
    "    else:\n",
    "        fps = stable_cumsum((1 - y_true))  # [threshold_idxs]\n",
    "    return fps, tps, y_score  # [threshold_idxs]\n",
    "\n",
    "\n",
    "def _precision_recall_curve_retention(y_true, probas_pred, *, pos_label=None,\n",
    "                                      sample_weight=None):\n",
    "    fps, tps, thresholds = _binary_clf_curve_ret(y_true, probas_pred,\n",
    "                                                 pos_label=pos_label,\n",
    "                                                 sample_weight=sample_weight)\n",
    "\n",
    "    precision = tps / (tps + fps)\n",
    "    precision[np.isnan(precision)] = 0\n",
    "    recall = tps / tps[-1]\n",
    "\n",
    "    # stop when full recall attained\n",
    "    # and reverse the outputs so recall is decreasing\n",
    "    last_ind = tps.searchsorted(tps[-1])\n",
    "    sl = slice(-1, None, -1)\n",
    "    return np.r_[precision[sl], 1], np.r_[recall[sl], 0], thresholds[sl]\n",
    "\n",
    "\n",
    "def _acceptable_error(errors, threshold):\n",
    "    return np.asarray(errors <= threshold, dtype=np.float32)\n",
    "\n",
    "\n",
    "def _calc_fbeta_regection_curve(errors, uncertainty, threshold, beta=1.0, group_by_uncertainty=True, eps=1e-10):\n",
    "    ae = _acceptable_error(errors, threshold)\n",
    "    pr, rec, _ = _precision_recall_curve_retention(ae, -uncertainty)\n",
    "    pr = np.asarray(pr)\n",
    "    rec = np.asarray(rec)\n",
    "    f_scores = (1 + beta ** 2) * pr * rec / (pr * beta ** 2 + rec + eps)\n",
    "\n",
    "    return f_scores, pr, rec\n",
    "\n",
    "\n",
    "def f_beta_metrics(errors, uncertainty, threshold, beta=1.0):\n",
    "    \"\"\"\n",
    "    :param errors: Per sample errors - array [n_samples]\n",
    "    :param uncertainty: Uncertainties associated with each prediction. rray [n_samples]\n",
    "    :param threshold: The error threshold below which we consider the prediction acceptable\n",
    "    :param beta: The beta value for the F_beta metric. Defaults to 1\n",
    "    :return: fbeta_auc, fbeta_95, retention\n",
    "    \"\"\"\n",
    "    f_scores, pr, rec = _calc_fbeta_regection_curve(errors, uncertainty, threshold, beta)\n",
    "    ret = np.arange(pr.shape[0]) / pr.shape[0]\n",
    "\n",
    "    f_auc = auc(ret[::-1], f_scores)\n",
    "    f95 = f_scores[::-1][np.int(0.95 * pr.shape[0])]\n",
    "\n",
    "    return f_auc, f95, f_scores[::-1]"
   ]
  },
  {
   "cell_type": "code",
   "execution_count": 41,
   "metadata": {},
   "outputs": [
    {
     "name": "stderr",
     "output_type": "stream",
     "text": [
      "/opt/.pyenv/versions/3.7.4/lib/python3.7/site-packages/ipykernel_launcher.py:241: DeprecationWarning: `np.int` is a deprecated alias for the builtin `int`. To silence this warning, use `int` by itself. Doing this will not modify any behavior and is safe. When replacing `np.int`, you may wish to use e.g. `np.int64` or `np.int32` to specify the precision. If you wish to review your current use, check the release note link for additional information.\n",
      "Deprecated in NumPy 1.20; for more details and guidance: https://numpy.org/devdocs/release/1.20.0-notes.html#deprecations\n"
     ]
    }
   ],
   "source": [
    "f_auc, f95, f_scores = f_beta_metrics(errors, unc, 0.5)"
   ]
  },
  {
   "cell_type": "code",
   "execution_count": 42,
   "metadata": {},
   "outputs": [
    {
     "data": {
      "text/plain": [
       "0.6395928981260036"
      ]
     },
     "execution_count": 42,
     "metadata": {},
     "output_type": "execute_result"
    }
   ],
   "source": [
    "f_auc"
   ]
  },
  {
   "cell_type": "code",
   "execution_count": 43,
   "metadata": {},
   "outputs": [
    {
     "data": {
      "text/plain": [
       "[<matplotlib.lines.Line2D at 0x7f0792f2d150>]"
      ]
     },
     "execution_count": 43,
     "metadata": {},
     "output_type": "execute_result"
    },
    {
     "data": {
      "image/png": "[encoded data removed]",
      "text/plain": [
       "<Figure size 432x288 with 1 Axes>"
      ]
     },
     "metadata": {
      "needs_background": "light"
     },
     "output_type": "display_data"
    }
   ],
   "source": [
    "plt.plot(f_scores)"
   ]
  },
  {
   "cell_type": "code",
   "execution_count": 44,
   "metadata": {},
   "outputs": [
    {
     "name": "stdout",
     "output_type": "stream",
     "text": [
      "mahalanobis: 0.9230582846521508\n"
     ]
    }
   ],
   "source": [
    "from sklearn.metrics import roc_curve\n",
    "from sklearn.metrics import accuracy_score, auc, roc_auc_score, f1_score\n",
    "\n",
    "import numpy as np\n",
    "import matplotlib.pyplot as plt\n",
    "from pathlib import Path\n",
    "import os\n",
    "import json\n",
    "import re\n",
    "\n",
    "from ue4nlp.ue_scores import *\n",
    "\n",
    "def get_score_ratio(sorted_indexes, answers, true_answers, ratio):\n",
    "    last_index = int(len(sorted_indexes) * ratio)\n",
    "    sel_indexes = sorted_indexes[:last_index]\n",
    "    unsel_indexes = sorted_indexes[last_index:]\n",
    "\n",
    "    sel_answers = true_answers[sel_indexes].tolist() + answers[unsel_indexes].tolist()\n",
    "    sel_true_answers = (\n",
    "        true_answers[sel_indexes].tolist() + true_answers[unsel_indexes].tolist()\n",
    "    )\n",
    "    #score = accuracy_score(sel_true_answers, sel_answers)\n",
    "    score = f1_score(sel_true_answers, sel_answers, average='micro')\n",
    "    return score\n",
    "\n",
    "\n",
    "predictions = np.argmax(probs, axis=-1)\n",
    "errors = (labels != predictions).astype(\"uint8\")\n",
    "ratio_list = [0.05, 0.1, 0.2, 0.3, 0.4, 0.5, 0.6, 0.7, 0.8, 0.9, 1.0]\n",
    "\n",
    "ue_scores = unc\n",
    "ensemble_answers = np.asarray(probs).argmax(-1)\n",
    "sorted_indexes_ensemble = np.argsort(-ue_scores)\n",
    "ens_scores = [\n",
    "    get_score_ratio(sorted_indexes_ensemble, ensemble_answers, labels, ratio)\n",
    "    for ratio in ratio_list\n",
    "]\n",
    "\n",
    "print(f\"mahalanobis:\", auc(ratio_list, ens_scores))"
   ]
  },
  {
   "cell_type": "code",
   "execution_count": 45,
   "metadata": {},
   "outputs": [
    {
     "data": {
      "text/plain": [
       "[<matplotlib.lines.Line2D at 0x7f0792d62790>]"
      ]
     },
     "execution_count": 45,
     "metadata": {},
     "output_type": "execute_result"
    },
    {
     "data": {
      "image/png": "[encoded data removed]",
      "text/plain": [
       "<Figure size 432x288 with 1 Axes>"
      ]
     },
     "metadata": {
      "needs_background": "light"
     },
     "output_type": "display_data"
    }
   ],
   "source": [
    "plt.plot(ens_scores)"
   ]
  },
  {
   "cell_type": "code",
   "execution_count": 46,
   "metadata": {},
   "outputs": [
    {
     "data": {
      "text/plain": [
       "[<matplotlib.lines.Line2D at 0x7f0792d373d0>]"
      ]
     },
     "execution_count": 46,
     "metadata": {},
     "output_type": "execute_result"
    },
    {
     "data": {
      "image/png": "[encoded data removed]",
      "text/plain": [
       "<Figure size 432x288 with 1 Axes>"
      ]
     },
     "metadata": {
      "needs_background": "light"
     },
     "output_type": "display_data"
    }
   ],
   "source": [
    "plt.plot(f_scores)"
   ]
  },
  {
   "cell_type": "code",
   "execution_count": null,
   "metadata": {},
   "outputs": [],
   "source": []
  }
 ],
 "metadata": {
  "kernelspec": {
   "display_name": "Python 3",
   "language": "python",
   "name": "python3"
  },
  "language_info": {
   "codemirror_mode": {
    "name": "ipython",
    "version": 3
   },
   "file_extension": ".py",
   "mimetype": "text/x-python",
   "name": "python",
   "nbconvert_exporter": "python",
   "pygments_lexer": "ipython3",
   "version": "3.7.4"
  }
 },
 "nbformat": 4,
 "nbformat_minor": 4
}
