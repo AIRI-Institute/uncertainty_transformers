{
 "cells": [
  {
   "cell_type": "markdown",
   "id": "6fd8b1b0-f924-487f-8c57-ceb8ad06b889",
   "metadata": {},
   "source": [
    "# Small demo notebook for misclassification detection"
   ]
  },
  {
   "cell_type": "markdown",
   "id": "314df5ba-4b6f-4468-aab5-9c1dbe670c4e",
   "metadata": {},
   "source": [
    "In this notebook we will train some models on MRPC dataset and explore several popular methods for uncertainty estimation (UE) - MC dropout, Mahalanobis distance and HS-RAU. We will also cover some regularizers, that used to improve quality of UE. So let's start from importing necessary functions and training models."
   ]
  },
  {
   "cell_type": "markdown",
   "id": "6d3f2d2c-9513-4a18-b643-74b1a356e24c",
   "metadata": {},
   "source": [
    "Note that this is just a small demo - full code for training classification models could be found in run_glue.py, full code for regularizers - in ue4nlp/transformers_regularized.py, and full code for uncertainty estimation methods - in ue4nlp/ue_estimator_\\*.py"
   ]
  },
  {
   "cell_type": "markdown",
   "id": "b6d93855-b35c-461c-a0ac-1d7ec6d5a139",
   "metadata": {
    "tags": []
   },
   "source": [
    "## Training models"
   ]
  },
  {
   "cell_type": "markdown",
   "id": "de84c41d-450c-4f03-ae22-9a0347293afb",
   "metadata": {},
   "source": [
    "We will train [ELECTRA](https://arxiv.org/abs/2003.10555) model for text classification. But firstly we will import necessary functions. Also don't forget to install dependencies - it's located in ../requirements.txt."
   ]
  },
  {
   "cell_type": "code",
   "execution_count": 1,
   "id": "c21ea026-7c8b-4813-a361-b330710c55dd",
   "metadata": {},
   "outputs": [
    {
     "name": "stderr",
     "output_type": "stream",
     "text": [
      "/home/jovyan/new_ue_env/lib/python3.7/site-packages/tqdm/auto.py:22: TqdmWarning: IProgress not found. Please update jupyter and ipywidgets. See https://ipywidgets.readthedocs.io/en/stable/user_install.html\n",
      "  from .autonotebook import tqdm as notebook_tqdm\n"
     ]
    }
   ],
   "source": [
    "import os\n",
    "# import uncertainty estimators\n",
    "from ue4nlp.ue_estimator_mc import UeEstimatorMc\n",
    "from ue4nlp.ue_estimator_mahalanobis import UeEstimatorMahalanobis\n",
    "from utils.plot_error_detection import get_score_ratio\n",
    "from ue4nlp.ue_scores import sampled_max_prob\n",
    "import matplotlib.pyplot as plt\n",
    "\n",
    "\n",
    "from demo_utils import train_model, preproc_config, get_table, eval_model\n",
    "from hydra import initialize, initialize_config_module, initialize_config_dir, compose\n",
    "from omegaconf import open_dict, OmegaConf\n",
    "import torch\n",
    "import numpy as np\n",
    "from IPython.display import clear_output\n",
    "import pandas as pd\n",
    "import json\n",
    "from pathlib import Path\n",
    "# if use cuda\n",
    "os.environ[\"CUDA_VISIBLE_DEVICES\"]=\"0\"\n",
    "torch.cuda.set_device(0)\n",
    "# ignore warnings\n",
    "import warnings\n",
    "warnings.filterwarnings('ignore')"
   ]
  },
  {
   "cell_type": "markdown",
   "id": "073092f3-22bc-4765-aa61-0858ce6f8c5e",
   "metadata": {},
   "source": [
    "To simplify process of setting training parameters, we load predefined config. We will use Hydra configs in this notebook - basically, it's a modification of python dicts, that could be used for storing experiments parameters. More info about Hydra configs could be found [here](https://hydra.cc/)."
   ]
  },
  {
   "cell_type": "code",
   "execution_count": 2,
   "id": "63da59ac-c47a-47c7-b810-14d1c678e11b",
   "metadata": {},
   "outputs": [],
   "source": [
    "# Let's set model params with config\n",
    "# We will use MRPC dataset\n",
    "configs_dir = \"../configs\"\n",
    "config_path = \"mrpc\"\n",
    "abs_config_dir=os.path.abspath(configs_dir)\n",
    "with initialize_config_dir(config_dir=abs_config_dir):\n",
    "    config = compose(config_name=config_path)"
   ]
  },
  {
   "cell_type": "markdown",
   "id": "32b9f74d-6b77-41d4-be4a-d8af22854b90",
   "metadata": {},
   "source": [
    "Modify config a little before training."
   ]
  },
  {
   "cell_type": "code",
   "execution_count": 3,
   "id": "e65b8d8d-a59e-4bcc-9a75-6516d11c676d",
   "metadata": {},
   "outputs": [
    {
     "name": "stderr",
     "output_type": "stream",
     "text": [
      "Using the `WAND_DISABLED` environment variable is deprecated and will be removed in v5. Use the --report_to flag to control the integrations used for logging result (for instance --report_to none).\n"
     ]
    }
   ],
   "source": [
    "# Set config only to train and train model\n",
    "config.do_train = True\n",
    "config.do_eval = True\n",
    "config.do_ue_estimate = False\n",
    "config.data.validation_subsample = 0.0\n",
    "# set dir for saving model and results\n",
    "with open_dict(config):\n",
    "    config.model_dir = '../workdir/model/'\n",
    "# preprocess config - update pathes for saving\n",
    "config, _, _ = preproc_config(config, init=True)\n",
    "# seeds\n",
    "seeds = [42, 4519, 941]"
   ]
  },
  {
   "cell_type": "markdown",
   "id": "09e5331c-7feb-4e3f-979d-bd2af6b2e5e6",
   "metadata": {},
   "source": [
    "Let's look that inside our config. For better readability we will transform it to yaml"
   ]
  },
  {
   "cell_type": "code",
   "execution_count": 4,
   "id": "ec1bc5f4-8092-4723-b0db-06a0ddd3f208",
   "metadata": {},
   "outputs": [
    {
     "name": "stdout",
     "output_type": "stream",
     "text": [
      "training:\n",
      "  learning_rate: 5.0e-05\n",
      "  per_device_eval_batch_size: 1000\n",
      "  per_device_train_batch_size: 16\n",
      "  num_train_epochs: 4\n",
      "  warmup_ratio: 0.1\n",
      "  seed: 101\n",
      "ue:\n",
      "  ue_type: mc-dpp\n",
      "  dropout_type: DPP\n",
      "  inference_prob: 0.1\n",
      "  committee_size: 20\n",
      "  dropout_subs: last\n",
      "  use_cache: true\n",
      "  eval_passes: false\n",
      "  calibrate: true\n",
      "  use_selective: false\n",
      "  lamb: 0.01\n",
      "  reg_type: reg-curr\n",
      "  dropout:\n",
      "    max_n: 100\n",
      "    max_frac: 0.4\n",
      "    mask_name: ht_dpp\n",
      "    dry_run_dataset: eval\n",
      "    is_reused_mask: true\n",
      "    mask_name_for_mask: rbf\n",
      "    committee_size: 20\n",
      "    use_ood_sampling: false\n",
      "    ood_sampling:\n",
      "      dataset_name: imdb\n",
      "      subset: test\n",
      "      number_of_samples: 5000\n",
      "model:\n",
      "  model_name_or_path: google/electra-base-discriminator\n",
      "data:\n",
      "  task_name: mrpc\n",
      "  subsample_perc: 0.0\n",
      "  max_seq_length: 128\n",
      "  validation_subsample: 0.0\n",
      "  validation_seed: 42\n",
      "spectralnorm_layer: last\n",
      "cache_dir: /home/jovyan/uncertainty-estimation/workdir/cache\n",
      "output_dir: /home/jovyan/uncertainty-estimation/workdir/results/mrpc\n",
      "seed: 42\n",
      "suffix: ''\n",
      "do_train: true\n",
      "do_eval: true\n",
      "do_ue_estimate: false\n",
      "reset_params: false\n",
      "repeat: 0\n",
      "model_dir: /home/jovyan/uncertainty-estimation/workdir/model/google/electra-base-discriminator/mrpc\n",
      "\n"
     ]
    }
   ],
   "source": [
    "print(OmegaConf.to_yaml(config))"
   ]
  },
  {
   "cell_type": "markdown",
   "id": "9f5b7eb6-5f0f-4b72-bd55-666a4a9c63b8",
   "metadata": {},
   "source": [
    "So inside our config we have training and data parameters, some common parameters like saving dirs, and parameters for uncertainty estimation."
   ]
  },
  {
   "cell_type": "markdown",
   "id": "09b552f2-f807-4b5e-a6e0-e1f7ddd8bf70",
   "metadata": {},
   "source": [
    "Now we are ready for training models. We will train several models with different seeds and with different regularizers, so we could obtain mean values for each experiment."
   ]
  },
  {
   "cell_type": "markdown",
   "id": "fa10a2cb-d45d-4b85-b72c-fd6036377ab5",
   "metadata": {
    "tags": []
   },
   "source": [
    "### Models without regularization"
   ]
  },
  {
   "cell_type": "code",
   "execution_count": 5,
   "id": "9110abc2-0530-40c8-ab69-e06fe4a1b9b4",
   "metadata": {},
   "outputs": [],
   "source": [
    "# set the model postfix, to save models with different regularizers to separate folders\n",
    "with open_dict(config):\n",
    "    config.model_postfix = 'raw'\n",
    "    config.ue.use_selective = False\n",
    "    config.ue.reg_type = 'raw'\n",
    "    # set optimal params for this model\n",
    "    config.training.num_train_epochs = 12\n",
    "    config.training.learning_rate = 5e-05\n",
    "    config.training.per_device_train_batch_size = 32\n",
    "    config.training.weight_decay = 0.1\n",
    "for seed in seeds:\n",
    "    config.seed = seed\n",
    "    train_model(config)\n",
    "    clear_output()"
   ]
  },
  {
   "cell_type": "markdown",
   "id": "c7770a9a-5146-47a4-95d7-729afd1ac387",
   "metadata": {},
   "source": [
    "### Models with [Confident Error Regularizer](https://aclanthology.org/2021.acl-long.84/) (CER)"
   ]
  },
  {
   "cell_type": "code",
   "execution_count": 6,
   "id": "a5cd9808-b70e-4772-8a85-9861b3f5b683",
   "metadata": {},
   "outputs": [],
   "source": [
    "with open_dict(config):\n",
    "    config.model_postfix = 'cer'\n",
    "    # also set parameters for regularization\n",
    "    config.ue.use_selective = True\n",
    "    config.ue.reg_type = 'reg-curr'\n",
    "    # set optimal params for this model\n",
    "    config.training.num_train_epochs = 7\n",
    "    config.training.learning_rate = 5e-05\n",
    "    config.training.per_device_train_batch_size = 16\n",
    "    config.training.weight_decay = 0.01\n",
    "    config.ue.lamb = 0.2\n",
    "for seed in seeds:\n",
    "    config.seed = seed\n",
    "    train_model(config)\n",
    "    clear_output()"
   ]
  },
  {
   "cell_type": "markdown",
   "id": "98a42ebc-f070-491c-8f0a-9ab2180d70f9",
   "metadata": {},
   "source": [
    "### Models with [Metric Regularizer](https://aclanthology.org/N19-1316/) (metric)"
   ]
  },
  {
   "cell_type": "code",
   "execution_count": 7,
   "id": "b178b5df-6027-4e95-a1e3-5823efa62954",
   "metadata": {},
   "outputs": [],
   "source": [
    "with open_dict(config):\n",
    "    config.model_postfix = 'metric'\n",
    "    # also set parameters for regularization\n",
    "    config.ue.use_selective = True\n",
    "    config.ue.reg_type = 'metric'\n",
    "    # set optimal params for this model\n",
    "    config.training.num_train_epochs = 11\n",
    "    config.training.learning_rate = 3e-05\n",
    "    config.training.per_device_train_batch_size = 32\n",
    "    config.training.weight_decay = 0.1\n",
    "    config.ue.lamb = 1.0\n",
    "    config.ue.lamb_intra = 0.01\n",
    "    config.ue.margin = 0.1\n",
    "for seed in seeds:\n",
    "    config.seed = seed\n",
    "    train_model(config)\n",
    "    clear_output()"
   ]
  },
  {
   "cell_type": "markdown",
   "id": "101814dc-0575-400a-9083-fc2e1ee31b07",
   "metadata": {},
   "source": [
    "### Models with [Rebalanced Accuracy-Uncertainty loss](https://arxiv.org/pdf/2203.09278.pdf) (HS-RAU)"
   ]
  },
  {
   "cell_type": "code",
   "execution_count": 8,
   "id": "1b4f99ab-e7e3-4d1a-b302-4f49bf9a0aa6",
   "metadata": {},
   "outputs": [],
   "source": [
    "with open_dict(config):\n",
    "    config.model_postfix = 'rau'\n",
    "    # also set parameters for regularization\n",
    "    config.ue.use_selective = True\n",
    "    config.ue.reg_type = 'rau'\n",
    "    # set optimal params for this model\n",
    "    config.training.num_train_epochs = 5\n",
    "    config.training.learning_rate = 2e-05\n",
    "    config.training.per_device_train_batch_size = 4\n",
    "    config.training.weight_decay = 0.0\n",
    "    config.ue.lamb = 0.005\n",
    "    config.ue.unc_threshold = 0.4\n",
    "    config.use_hs_labels = True\n",
    "for seed in seeds:\n",
    "    config.seed = seed\n",
    "    train_model(config)\n",
    "    clear_output()"
   ]
  },
  {
   "cell_type": "markdown",
   "id": "6d30d0f5-73e0-4268-8880-1533b992d134",
   "metadata": {},
   "source": [
    "## Calculating UE"
   ]
  },
  {
   "cell_type": "markdown",
   "id": "94924aac-d7f2-4317-a094-13c14f17e336",
   "metadata": {},
   "source": [
    "By now, we've trained several models on the MRPC dataset. So now we look at some methods of uncertainty estimation - [MC dropout on all layers](https://proceedings.mlr.press/v48/gal16.html) (MC) and [Mahalanobis distance](https://ojs.aaai.org/index.php/AAAI/article/view/17612) (MD)."
   ]
  },
  {
   "cell_type": "code",
   "execution_count": 9,
   "id": "6bf18659-d117-47f8-a071-0685d87c7a3e",
   "metadata": {},
   "outputs": [],
   "source": [
    "# Now we have trained model, let's use it and get uncertainty estimation scores\n",
    "# Set config to UE\n",
    "config.do_train = False\n",
    "config.do_eval = True\n",
    "config.do_ue_estimate = True\n",
    "with open_dict(config):\n",
    "    config.use_hs_labels = False"
   ]
  },
  {
   "cell_type": "markdown",
   "id": "ae8be4a6-a7ca-491b-9bab-10aaeae2caf4",
   "metadata": {},
   "source": [
    "At first, create main function for uncertainty estimation. In this function we simply create estimator and call it."
   ]
  },
  {
   "cell_type": "code",
   "execution_count": 10,
   "id": "7a7de5bc-0c8d-450e-b9bb-8bb4ff792c6e",
   "metadata": {},
   "outputs": [],
   "source": [
    "def create_ue_estimator(\n",
    "    model,\n",
    "    ue_args,\n",
    "    eval_metric,\n",
    "    calibration_dataset,\n",
    "    train_dataset,\n",
    "    cache_dir,\n",
    "    config=None,\n",
    "):\n",
    "    if ue_args.ue_type == \"mc\" or ue_args.ue_type == \"mc-dc\":\n",
    "        return UeEstimatorMc(\n",
    "            model, ue_args, eval_metric, calibration_dataset, train_dataset\n",
    "        )\n",
    "    elif ue_args.ue_type == \"maha\":\n",
    "        return UeEstimatorMahalanobis(model, ue_args, config, train_dataset)\n",
    "    else:\n",
    "        raise ValueError()\n",
    "\n",
    "\n",
    "def estimate(\n",
    "    config,\n",
    "    classifier,\n",
    "    eval_metric,\n",
    "    calibration_dataset,\n",
    "    train_dataset,\n",
    "    eval_dataset,\n",
    "    eval_results,\n",
    "    work_dir\n",
    "):\n",
    "    \"\"\"Function for uncertainty estimation\"\"\"\n",
    "    true_labels = eval_results[\"true_labels\"]\n",
    "    # create estimator\n",
    "    ue_estimator = create_ue_estimator(\n",
    "        classifier,\n",
    "        config.ue,\n",
    "        eval_metric,\n",
    "        calibration_dataset=calibration_dataset,\n",
    "        train_dataset=train_dataset,\n",
    "        cache_dir=config.cache_dir,\n",
    "        config=config,\n",
    "    )\n",
    "    # fit UE estimator\n",
    "    ue_estimator.fit_ue(X=train_dataset, X_test=eval_dataset)\n",
    "    # calc UE\n",
    "    ue_results = ue_estimator(eval_dataset, true_labels)\n",
    "    # save results\n",
    "    eval_results.update(ue_results)\n",
    "    with open(Path(work_dir) / \"dev_inference.json\", \"w\") as res:\n",
    "        json.dump(eval_results, res)"
   ]
  },
  {
   "cell_type": "markdown",
   "id": "85780d03-231e-490f-8ad7-c10ef17bc177",
   "metadata": {},
   "source": [
    "### MC Dropout"
   ]
  },
  {
   "cell_type": "markdown",
   "id": "b731a93d-a306-4eaa-aaec-e75a268a1e2a",
   "metadata": {},
   "source": [
    "Now we use estimators for each method. Let's start from MC dropout.\\\n",
    "We already imported estimator for this method - UeEstimatorMc, now we will use it to obtain uncertainty estimates."
   ]
  },
  {
   "cell_type": "markdown",
   "id": "b800652c-6760-4ee7-88ee-5122014b59c4",
   "metadata": {},
   "source": [
    "Now we only have to modify our config and add to it parameters for MC dropout."
   ]
  },
  {
   "cell_type": "code",
   "execution_count": 11,
   "id": "7733d0b0-b132-4a9c-bccf-810a0bf71d30",
   "metadata": {},
   "outputs": [],
   "source": [
    "config, args_train, args_data = preproc_config(config)\n",
    "config.ue.ue_type = 'mc'\n",
    "config.ue.dropout_type = 'MC'\n",
    "config.ue.inference_prob = 0.1\n",
    "config.ue.committee_size = 20\n",
    "config.ue.dropout_subs = 'all'\n",
    "config.ue.use_cache = True\n",
    "config.ue.eval_passes = False\n",
    "config.ue.calibrate = False\n",
    "config.ue.use_selective = False\n",
    "# types of used regularizers\n",
    "postfixes = ['raw', 'cer', 'metric', 'rau']\n",
    "for seed in seeds:\n",
    "    for model_postfix in postfixes:\n",
    "        with open_dict(config):\n",
    "            config.model_postfix = model_postfix\n",
    "            config.seed = seed\n",
    "            config.use_hs_labels = True if model_postfix == 'rau' else False\n",
    "        # eval model\n",
    "        classifier, eval_metric, calibration_dataset, train_dataset, eval_dataset, eval_results, work_dir = eval_model(config, 'mc', args_train, args_data)\n",
    "        # after calc UE for model\n",
    "        estimate(config, classifier, eval_metric, calibration_dataset, train_dataset, eval_dataset, eval_results, work_dir)\n",
    "        clear_output()"
   ]
  },
  {
   "cell_type": "markdown",
   "id": "604129e8-6f8c-49d9-94f2-19d9e9769d58",
   "metadata": {
    "tags": []
   },
   "source": [
    "### Mahalanobis Distance"
   ]
  },
  {
   "cell_type": "markdown",
   "id": "43eaca87-57f3-42e2-94d6-3a83b42fde58",
   "metadata": {},
   "source": [
    "We will use estimator for Mahalanobis distance, UeEstimatorMahalanobis."
   ]
  },
  {
   "cell_type": "markdown",
   "id": "b28e5189-d80b-4c6d-80f8-562e47c1379e",
   "metadata": {},
   "source": [
    "Mahalanobis distance is a generalisation of the Euclidean distance, which takes into account the spreading of instances in the training set along various directions in a feature space. $u_{MD} = \\min_{c \\in C}(h_{i}-\\mu_{c})^{T}\\Sigma^{-1}(h_{i}-\\mu_{c}),$\\\n",
    "where $h_{i}$ is a hidden representation of a $i$-th instance, $\\mu_{c}$ is a centroid of a class $c$, and $\\Sigma$ is a covariance matrix for hidden representations of training instances."
   ]
  },
  {
   "cell_type": "code",
   "execution_count": 12,
   "id": "31b9d740-c396-4797-a49b-314c69754f61",
   "metadata": {},
   "outputs": [],
   "source": [
    "config, args_train, args_data = preproc_config(config)\n",
    "config.ue.ue_type = 'maha'\n",
    "config.ue.dropout_type = ''\n",
    "config.ue.dropout_subs = ''\n",
    "config.ue.use_cache = True\n",
    "config.ue.eval_passes = False\n",
    "config.ue.calibrate = False\n",
    "config.ue.use_selective = False\n",
    "# types of used regularizers\n",
    "postfixes = ['raw', 'cer', 'metric', 'rau']\n",
    "for seed in seeds:\n",
    "    for model_postfix in postfixes:\n",
    "        with open_dict(config):\n",
    "            config.model_postfix = model_postfix\n",
    "            config.seed = seed\n",
    "            config.use_hs_labels = True if model_postfix == 'rau' else False\n",
    "        # eval model\n",
    "        classifier, eval_metric, calibration_dataset, train_dataset, eval_dataset, eval_results, work_dir = eval_model(config, 'maha', args_train, args_data)\n",
    "        # after calc UE for model\n",
    "        estimate(config, classifier, eval_metric, calibration_dataset, train_dataset, eval_dataset, eval_results, work_dir)\n",
    "        clear_output()"
   ]
  },
  {
   "cell_type": "markdown",
   "id": "442d097a-0b9d-42fc-bc9a-4c33d1dcb742",
   "metadata": {},
   "source": [
    "## Results"
   ]
  },
  {
   "cell_type": "markdown",
   "id": "6d9f8370-1a0b-462f-adfe-6991528d1b3e",
   "metadata": {},
   "source": [
    "We already trained models and calculated uncertainty estimates, it's time to look at results."
   ]
  },
  {
   "cell_type": "code",
   "execution_count": 13,
   "id": "735995bb-6074-4ed6-8319-c8e5ab8c3cf8",
   "metadata": {},
   "outputs": [],
   "source": [
    "def to_table(results, name, return_baseline=False):\n",
    "    \"\"\"Small helper function for building tables.\"\"\"\n",
    "    replace_dict = {'bald': 'BALD',\n",
    "                    'variance': 'PV',\n",
    "                    'sampled_max_prob': 'SMP',\n",
    "                    'mahalanobis_distance': 'MD',\n",
    "                    'sampled_entropy': 'SE',\n",
    "                    'var_ratio': 'VR'}\n",
    "    table = pd.DataFrame().from_dict(results)\n",
    "    scores = list(results[list(results.keys())[0]].index)\n",
    "    scores = [replace_dict.get(score, score) for score in scores]\n",
    "    table['UE Score'] = scores\n",
    "    table['Method'] = [name] * len(table)\n",
    "    table.drop('count', inplace=True)\n",
    "    baseline = table.loc['baseline (max_prob)']\n",
    "    baseline['Method'] = 'SR (baseline)'\n",
    "    baseline['UE Score'] = 'MP'\n",
    "    table.drop('baseline (max_prob)', inplace=True)\n",
    "    if return_baseline:\n",
    "        return table, baseline\n",
    "    else:\n",
    "        return table"
   ]
  },
  {
   "cell_type": "markdown",
   "id": "75b5c95f-329a-4977-95a4-e828c30e1731",
   "metadata": {},
   "source": [
    "Here we use several different scores for uncertainty estimation - BALD, probability variance (PV), maximum probability (MP) and sampled maximum probability (SMP).\\\n",
    "The most simple score is MP:\\\n",
    "$u_{SR}(x) = 1 - \\max_{c \\in C} p(y=c|x).$\\\n",
    "As $C$ in this equation denoted number of classes, and $p(y|x)$ is probability over classes.\\\n",
    "SMP score formulated as following:\\\n",
    "$u_{SMP} = 1 -  \\max_{c \\in C} \\frac{1}{T}\\sum_{t=1}^T  p_t^{c}.$\\\n",
    "For this and for all next scores we assume that we have conducted $T$ stochastic passes. In this equation $p_t^{c}$ is the probability of the class $c$ for the $t$-th stochastic forward pass.\\\n",
    "PV score:\n",
    "$u_{PV} = \\frac{1}{C} \\sum_{c = 1}^C \\left( \\frac{1}{T - 1} \\sum_{t = 1}^T {(p^c_t-\\overline{p^c})^2} \\right),$\\\n",
    "where $\\overline{p^c}=\\frac{1}{T} \\sum_t{p^{c}_{t}}$ is the probability for a class $c$ averaged across $T$ stochastic forward passes.\\\n",
    "BALD score:\\\n",
    "$u_{B} = -\\sum_{c = 1}^C \\overline{p^c} \\log \\overline{p^c} +  \\frac{1}{T}\\sum_{c, t} p^{c}_{t}\\log p^{c}_{t}.$"
   ]
  },
  {
   "cell_type": "markdown",
   "id": "d585af20-e344-46fa-ac0e-f5ccb47b4059",
   "metadata": {},
   "source": [
    "For evaluating quality of UE we will use reversed pair proportion [(RPP)](https://aclanthology.org/2021.acl-long.84/) and area under the risk-coverage curve [(RCC-AUC)](https://www.jmlr.org/papers/volume11/el-yaniv10a/el-yaniv10a.pdf) metrics.\\\n",
    "The risk coverage curve demonstrates the cumulative sum of loss due to misclassification (cumulative risk) depending on the uncertainty level used for rejection of predictions. The lower area under this curve indicates better quality of the UE method.\\\n",
    "RPP measures how far the uncertainty estimator $\\tilde{u}$ is to ideal, given the labeled dataset of size $n$:\n",
    "\n",
    "$RPP = \\frac{1}{n^2} \\displaystyle\\sum_{i,j = 1}^n \\mathbb{1}[\\tilde{u}(x_i) > \\tilde{u}(x_j), l_i > l_j].$\n",
    "\n",
    "For both metrics,  $l$ is an indicator loss function."
   ]
  },
  {
   "cell_type": "code",
   "execution_count": 14,
   "id": "84c65e10-8fac-4118-93e6-dbdea7016617",
   "metadata": {},
   "outputs": [
    {
     "name": "stderr",
     "output_type": "stream",
     "text": [
      "PyTorch: setting up devices\n",
      "The default value for the training argument `--report_to` will change in v5 (from all installed integrations to none). In v5, you will need to use `--report_to all` to get the same behavior as now. You should start updating your code and make this info disappear :-).\n",
      "Using the `WAND_DISABLED` environment variable is deprecated and will be removed in v5. Use the --report_to flag to control the integrations used for logging result (for instance --report_to none).\n",
      "PyTorch: setting up devices\n",
      "The default value for the training argument `--report_to` will change in v5 (from all installed integrations to none). In v5, you will need to use `--report_to all` to get the same behavior as now. You should start updating your code and make this info disappear :-).\n",
      "Using the `WAND_DISABLED` environment variable is deprecated and will be removed in v5. Use the --report_to flag to control the integrations used for logging result (for instance --report_to none).\n",
      "PyTorch: setting up devices\n",
      "The default value for the training argument `--report_to` will change in v5 (from all installed integrations to none). In v5, you will need to use `--report_to all` to get the same behavior as now. You should start updating your code and make this info disappear :-).\n",
      "Using the `WAND_DISABLED` environment variable is deprecated and will be removed in v5. Use the --report_to flag to control the integrations used for logging result (for instance --report_to none).\n",
      "PyTorch: setting up devices\n",
      "The default value for the training argument `--report_to` will change in v5 (from all installed integrations to none). In v5, you will need to use `--report_to all` to get the same behavior as now. You should start updating your code and make this info disappear :-).\n",
      "Using the `WAND_DISABLED` environment variable is deprecated and will be removed in v5. Use the --report_to flag to control the integrations used for logging result (for instance --report_to none).\n",
      "PyTorch: setting up devices\n",
      "The default value for the training argument `--report_to` will change in v5 (from all installed integrations to none). In v5, you will need to use `--report_to all` to get the same behavior as now. You should start updating your code and make this info disappear :-).\n",
      "Using the `WAND_DISABLED` environment variable is deprecated and will be removed in v5. Use the --report_to flag to control the integrations used for logging result (for instance --report_to none).\n"
     ]
    },
    {
     "name": "stdout",
     "output_type": "stream",
     "text": [
      "Results for RAW regularization\n",
      "          Method UE Score        rpp     rcc-auc\n",
      "0             MC     BALD  2.59±0.16  22.65±0.80\n",
      "1             MC      SMP  1.95±0.20  15.76±2.95\n",
      "2             MC       PV  2.23±0.13  19.34±1.71\n",
      "3             MD       MD  1.79±0.13  12.83±1.09\n",
      "4  SR (baseline)       MP  2.22±0.47  18.51±5.97\n",
      "Results for CER regularization\n",
      "          Method UE Score        rpp     rcc-auc\n",
      "0             MC     BALD  2.81±0.10  24.05±2.06\n",
      "1             MC      SMP  2.24±0.21  18.10±3.77\n",
      "2             MC       PV  2.46±0.13  20.24±3.28\n",
      "3             MD       MD  1.83±0.19  13.34±1.24\n",
      "4  SR (baseline)       MP  2.17±0.27  18.75±4.93\n"
     ]
    },
    {
     "name": "stderr",
     "output_type": "stream",
     "text": [
      "PyTorch: setting up devices\n",
      "The default value for the training argument `--report_to` will change in v5 (from all installed integrations to none). In v5, you will need to use `--report_to all` to get the same behavior as now. You should start updating your code and make this info disappear :-).\n",
      "Using the `WAND_DISABLED` environment variable is deprecated and will be removed in v5. Use the --report_to flag to control the integrations used for logging result (for instance --report_to none).\n",
      "PyTorch: setting up devices\n",
      "The default value for the training argument `--report_to` will change in v5 (from all installed integrations to none). In v5, you will need to use `--report_to all` to get the same behavior as now. You should start updating your code and make this info disappear :-).\n",
      "Using the `WAND_DISABLED` environment variable is deprecated and will be removed in v5. Use the --report_to flag to control the integrations used for logging result (for instance --report_to none).\n",
      "PyTorch: setting up devices\n",
      "The default value for the training argument `--report_to` will change in v5 (from all installed integrations to none). In v5, you will need to use `--report_to all` to get the same behavior as now. You should start updating your code and make this info disappear :-).\n",
      "Using the `WAND_DISABLED` environment variable is deprecated and will be removed in v5. Use the --report_to flag to control the integrations used for logging result (for instance --report_to none).\n"
     ]
    },
    {
     "name": "stdout",
     "output_type": "stream",
     "text": [
      "Results for METRIC regularization\n",
      "          Method UE Score        rpp     rcc-auc\n",
      "0             MC     BALD  2.57±0.18  20.86±1.12\n",
      "1             MC      SMP  2.19±0.41  17.38±4.54\n",
      "2             MC       PV  2.32±0.23  18.45±2.72\n",
      "3             MD       MD  1.62±0.09  11.80±0.81\n",
      "4  SR (baseline)       MP  2.54±0.64  21.70±7.78\n",
      "Results for RAU regularization\n",
      "          Method UE Score        rpp     rcc-auc\n",
      "0             MC     BALD  2.86±0.45  22.88±4.46\n",
      "1             MC      SMP  2.09±0.27  14.56±1.39\n",
      "2             MC       PV  2.43±0.35  17.81±2.37\n",
      "3             MD       MD  1.76±0.32  12.61±1.78\n",
      "4  SR (baseline)       MP  2.04±0.18  14.17±1.01\n"
     ]
    }
   ],
   "source": [
    "# Here we calculate metrics for each regularizer and each method in for loop\n",
    "for postfix in postfixes:\n",
    "    # Firstly, let's set pathes to our results\n",
    "    mc_path = os.path.join(config.output_dir, postfix, \"mc\")\n",
    "    maha_path = os.path.join(config.output_dir, postfix, \"maha\")\n",
    "    # We will calculate two metrics - RPP and RCC-AUC\n",
    "    metrics = ['rpp', 'rcc-auc']\n",
    "    mc_res = get_table(config, mc_path)\n",
    "    maha_res = get_table(config, maha_path)\n",
    "    mc_table, baseline = to_table(mc_res, 'MC', True)\n",
    "    maha_table = to_table(maha_res, 'MD')\n",
    "    table = pd.concat([mc_table, maha_table])\n",
    "    table.loc['Baseline'] = baseline\n",
    "    # Now make table more readable\n",
    "    columns = ['Method', 'UE Score'] + metrics\n",
    "    table = table[columns]\n",
    "    table.reset_index(drop=True, inplace=True)\n",
    "    print(f\"Results for {postfix.upper()} regularization\")\n",
    "    print(table)"
   ]
  },
  {
   "cell_type": "markdown",
   "id": "161c0e39-d6e5-44ae-b937-b09832281f56",
   "metadata": {},
   "source": [
    "As one can see, Mahalanobis distance with Metric regularizer shows the best performance."
   ]
  },
  {
   "cell_type": "markdown",
   "id": "61fee527-bdfe-459b-9750-d2b1edfebb2a",
   "metadata": {},
   "source": [
    "Now we will look at accuracy-rejection curve. This is another metric for uncertainty esimation, and here its brief explanation:\\\n",
    "This curve is drawn by varying the rejection uncertainty level (horizontal axis) and presenting the corresponding accuracy obtained when all rejected instances are labeled with an oracle (vertical axis). This emulates the work of a human expert in conjunction with a machine learning system. The higher the curve, the smaller\n",
    "amount of labor is needed to achieve a certain level of performance and the better is the UE method."
   ]
  },
  {
   "cell_type": "code",
   "execution_count": 17,
   "id": "8e22653f-1305-4fab-8d46-10f6235cbfa3",
   "metadata": {},
   "outputs": [],
   "source": [
    "ratio_list = [0.05, 0.1, 0.2, 0.3, 0.4, 0.5, 0.6, 0.7, 0.8, 0.9, 1.0]\n",
    "def prepare_probas_maha(res_path):\n",
    "    maha_scores = []\n",
    "    for seed in os.listdir(res_path):\n",
    "\n",
    "        with open(Path(res_path)/ seed / 'dev_inference.json') as f:\n",
    "                model_outputs = json.loads(f.read())\n",
    "\n",
    "        mahalanobis_distance = np.asarray(model_outputs['mahalanobis_distance'])\n",
    "        probabilities = np.asarray(model_outputs['probabilities'])\n",
    "        eval_labels = np.asarray(model_outputs['true_labels'])\n",
    "\n",
    "        predictions = np.argmax(probabilities, axis=-1)\n",
    "\n",
    "        ensemble_answers = predictions\n",
    "        sorted_indexes_ensemble = np.argsort(-mahalanobis_distance)\n",
    "        ens_scores = [\n",
    "                    get_score_ratio(sorted_indexes_ensemble, ensemble_answers, eval_labels, ratio)\n",
    "                    for ratio in ratio_list\n",
    "        ]\n",
    "        maha_scores.append(ens_scores)\n",
    "    maha_scores = np.median(maha_scores, axis=0)\n",
    "    return maha_scores\n",
    "\n",
    "\n",
    "def prepare_probas_mc(res_path):\n",
    "    mc_scores = []\n",
    "    for seed in os.listdir(res_path):\n",
    "\n",
    "        with open(Path(res_path) / seed / 'dev_inference.json') as f:\n",
    "            model_outputs = json.loads(f.read())\n",
    "\n",
    "        probabilities = np.asarray(model_outputs[\"probabilities\"])\n",
    "        true_labels = np.asarray(model_outputs[\"true_labels\"])\n",
    "        sampled_probabilities = np.asarray(model_outputs[\"sampled_probabilities\"]).transpose(1, 0, 2)\n",
    "        answers = np.asarray(model_outputs['answers'])\n",
    "        eval_labels = np.asarray(model_outputs['true_labels'])\n",
    "\n",
    "        mc_all_sampled = sampled_max_prob(sampled_probabilities)\n",
    "        ensemble_answers = np.asarray(sampled_probabilities).mean(1).argmax(-1)\n",
    "        sorted_indexes_ensemble = np.argsort(-mc_all_sampled)\n",
    "        ens_scores = [\n",
    "                    get_score_ratio(sorted_indexes_ensemble, ensemble_answers, eval_labels, ratio)\n",
    "                    for ratio in ratio_list\n",
    "        ]\n",
    "        mc_scores.append(ens_scores)\n",
    "    mc_scores = np.median(mc_scores, axis=0)\n",
    "    return mc_scores\n",
    "\n",
    "\n",
    "def prepare_probas_sr(res_path):\n",
    "    sr_scores = []\n",
    "    acc = []\n",
    "\n",
    "    for seed in os.listdir(res_path):\n",
    "\n",
    "        with open(Path(res_path) / seed / 'dev_inference.json') as f:\n",
    "            model_outputs = json.loads(f.read())\n",
    "\n",
    "        probabilities = np.asarray(model_outputs[\"probabilities\"])\n",
    "        true_labels = np.asarray(model_outputs[\"true_labels\"])\n",
    "        eval_labels = np.asarray(model_outputs['true_labels'])\n",
    "        sampled_probabilities = np.asarray(model_outputs[\"sampled_probabilities\"]).transpose(1, 0, 2)\n",
    "        answers = np.asarray(model_outputs['answers'])\n",
    "        model_ues = 1 - np.max(probabilities, axis=1)\n",
    "        model_answers = np.asarray(model_outputs['answers'])\n",
    "        sorted_indexes_model = np.argsort(-model_ues)\n",
    "        model_scores = [\n",
    "            get_score_ratio(sorted_indexes_model, model_answers, eval_labels, ratio)\n",
    "            for ratio in ratio_list\n",
    "        ]\n",
    "        sr_scores.append(model_scores)\n",
    "        acc.append((answers==true_labels).sum() / len(answers))\n",
    "    sr_scores = np.median(sr_scores, axis=0)\n",
    "    acc = np.mean(acc)\n",
    "    return sr_scores"
   ]
  },
  {
   "cell_type": "code",
   "execution_count": 18,
   "id": "4a584423-9b84-4ca3-b815-e8144176fd60",
   "metadata": {},
   "outputs": [
    {
     "data": {
      "image/png": "[encoded data removed]",
      "text/plain": [
       "<Figure size 1152x864 with 4 Axes>"
      ]
     },
     "metadata": {
      "needs_background": "light"
     },
     "output_type": "display_data"
    }
   ],
   "source": [
    "fig, axes = plt.subplots(2,2, figsize=(16,12))\n",
    "for idx, postfix in enumerate(postfixes):\n",
    "    maha_scores = prepare_probas_maha(os.path.join(config.output_dir, postfix, \"maha\"))\n",
    "    mc_scores = prepare_probas_mc(os.path.join(config.output_dir, postfix, \"mc\"))\n",
    "    sr_scores = prepare_probas_sr(os.path.join(config.output_dir, postfix, \"mc\"))\n",
    "    axes[idx // 2][idx % 2].plot(ratio_list, maha_scores, label=f'MD, {postfix}', linewidth=1,  c='mediumpurple', alpha=0.8)\n",
    "    axes[idx // 2][idx % 2].plot(ratio_list, mc_scores, label=f'MC, SMP, {postfix}', linewidth=1.5, c='r')\n",
    "    axes[idx // 2][idx % 2].plot(ratio_list, sr_scores, label=f\"SR (baseline), {postfix}\", linewidth=1, c='g', alpha=0.8)\n",
    "    axes[idx // 2][idx % 2].set_ylabel(\"Accuracy score\", fontdict={\"size\": 10})\n",
    "    axes[idx // 2][idx % 2].set_xlabel(\"Rejection rate\", fontdict={\"size\": 10})\n",
    "    axes[idx // 2][idx % 2].legend()"
   ]
  },
  {
   "cell_type": "markdown",
   "id": "c43498cf-5f01-456b-a7ae-3f7bab132761",
   "metadata": {},
   "source": [
    "Again, we can see that Mahalanobis distance with metric loss shows the best results."
   ]
  },
  {
   "cell_type": "code",
   "execution_count": null,
   "id": "60b7dc04-0870-4cc4-99fe-fa0391a3f0f5",
   "metadata": {},
   "outputs": [],
   "source": []
  }
 ],
 "metadata": {
  "kernelspec": {
   "display_name": "new_ue_env",
   "language": "python",
   "name": "new_ue_env"
  },
  "language_info": {
   "codemirror_mode": {
    "name": "ipython",
    "version": 3
   },
   "file_extension": ".py",
   "mimetype": "text/x-python",
   "name": "python",
   "nbconvert_exporter": "python",
   "pygments_lexer": "ipython3",
   "version": "3.7.12"
  }
 },
 "nbformat": 4,
 "nbformat_minor": 5
}
